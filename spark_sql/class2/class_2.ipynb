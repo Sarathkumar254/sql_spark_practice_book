{
 "cells": [
  {
   "cell_type": "code",
   "execution_count": 1,
   "id": "ae4a852f-783f-4dc7-b8c0-543eee815e9b",
   "metadata": {},
   "outputs": [],
   "source": [
    "# Import Libraries\n",
    "from pyspark.sql import SparkSession"
   ]
  },
  {
   "cell_type": "code",
   "execution_count": 2,
   "id": "1afba7c9-31e3-4b4c-8c36-d3601ecbd9c4",
   "metadata": {},
   "outputs": [],
   "source": [
    "spark = SparkSession.builder \\\n",
    "        .appName(\"SQLClass2App\") \\\n",
    "        .getOrCreate()"
   ]
  },
  {
   "cell_type": "code",
   "execution_count": 3,
   "id": "a57a70e1-ab87-4e1c-b130-ceb0838a7733",
   "metadata": {},
   "outputs": [
    {
     "data": {
      "text/plain": [
       "'3.5.4'"
      ]
     },
     "execution_count": 3,
     "metadata": {},
     "output_type": "execute_result"
    }
   ],
   "source": [
    "spark.version"
   ]
  },
  {
   "cell_type": "code",
   "execution_count": 4,
   "id": "e881b179-7116-4bbc-9f89-ea8f05e60547",
   "metadata": {},
   "outputs": [],
   "source": [
    "# Define MySQL credentials\n",
    "mysql_url = \"jdbc:mysql://localhost:3307/class_2\"\n",
    "mysql_user = \"root\"\n",
    "mysql_password = \"00000\"\n",
    "mysql_driver = \"com.mysql.cj.jdbc.Driver\""
   ]
  },
  {
   "cell_type": "markdown",
   "id": "9d76f4bc-9c62-42fc-9e90-9091281c92f0",
   "metadata": {},
   "source": [
    "## Mysql Connection with spark"
   ]
  },
  {
   "cell_type": "code",
   "execution_count": 5,
   "id": "83e8a7a6-5125-453e-bf32-e9d008a819db",
   "metadata": {},
   "outputs": [],
   "source": [
    "query = \"select * from world\""
   ]
  },
  {
   "cell_type": "code",
   "execution_count": 6,
   "id": "aae5599b-ccee-42ee-8dae-92af48d5bdb8",
   "metadata": {},
   "outputs": [],
   "source": [
    "df = spark.read \\\n",
    "    .format(\"jdbc\") \\\n",
    "    .option(\"url\", mysql_url) \\\n",
    "    .option(\"user\", mysql_user) \\\n",
    "    .option(\"query\", query) \\\n",
    "    .option(\"password\", mysql_password) \\\n",
    "    .option(\"driver\", \"com.mysql.cj.jdbc.Driver\") \\\n",
    "    .load()"
   ]
  },
  {
   "cell_type": "code",
   "execution_count": 7,
   "id": "5b8a02ab-0461-4ac2-bc97-ef193626593d",
   "metadata": {},
   "outputs": [],
   "source": [
    "def mysql_read_action(query):\n",
    "    \"\"\"\n",
    "    Perform MySQL actions like read, write, update and delete\n",
    "    \"\"\"\n",
    "    return spark.read \\\n",
    "    .format(\"jdbc\") \\\n",
    "    .option(\"url\", mysql_url) \\\n",
    "    .option(\"user\", mysql_user) \\\n",
    "    .option(\"query\", query) \\\n",
    "    .option(\"password\", mysql_password) \\\n",
    "    .option(\"driver\", mysql_driver) \\\n",
    "    .load()"
   ]
  },
  {
   "cell_type": "code",
   "execution_count": 8,
   "id": "b6d2bf67-9b7f-4501-b302-280920aa692b",
   "metadata": {},
   "outputs": [],
   "source": [
    "df = mysql_read_action(query)"
   ]
  },
  {
   "cell_type": "code",
   "execution_count": 9,
   "id": "24839c75-d6c3-4d7d-b636-f266cdcf022f",
   "metadata": {},
   "outputs": [
    {
     "name": "stdout",
     "output_type": "stream",
     "text": [
      "+-----------+---------+-------+----------+------------+\n",
      "|       name|continent|   area|population|         gdp|\n",
      "+-----------+---------+-------+----------+------------+\n",
      "|Afghanistan|     Asia| 652230|  25500100| 20343000000|\n",
      "|    Albania|   Europe|  28748|   2831741| 12960000000|\n",
      "|    Algeria|   Africa|2381741|  37100000|188681000000|\n",
      "|    Andorra|   Europe|    468|     78115|  3712000000|\n",
      "|     Angola|   Africa|1246700|  20609294|100990000000|\n",
      "+-----------+---------+-------+----------+------------+\n",
      "\n"
     ]
    }
   ],
   "source": [
    "df.show()"
   ]
  },
  {
   "cell_type": "markdown",
   "id": "210a53dc-fd7a-4855-8f57-c3792f23f4f9",
   "metadata": {},
   "source": [
    "## Import necessary libaries"
   ]
  },
  {
   "cell_type": "code",
   "execution_count": 15,
   "id": "589511ce-a26c-44ab-9991-c096f1b6f677",
   "metadata": {},
   "outputs": [],
   "source": [
    "from pyspark.sql import functions as F\n",
    "from pyspark.sql.window import Window"
   ]
  },
  {
   "cell_type": "markdown",
   "id": "7c8aaab1-38bb-4852-afe3-2b66648cd034",
   "metadata": {},
   "source": [
    "### 51. A country is big if: \n",
    "#### ● it has an area of at least three million (i.e., 3000000 km2), or\n",
    "#### ● it has a population of at least twenty-five million (i.e., 25000000).\n",
    "\n",
    "### Write an SQL query to report the name, population, and area of the big countries.\n"
   ]
  },
  {
   "cell_type": "code",
   "execution_count": 16,
   "id": "e2db21e6-b92a-45d5-bdfc-90357e6bfee2",
   "metadata": {},
   "outputs": [
    {
     "name": "stdout",
     "output_type": "stream",
     "text": [
      "+-----------+---------+-------+----------+\n",
      "|       name|continent|   area|population|\n",
      "+-----------+---------+-------+----------+\n",
      "|Afghanistan|     Asia| 652230|  25500100|\n",
      "|    Algeria|   Africa|2381741|  37100000|\n",
      "+-----------+---------+-------+----------+\n",
      "\n"
     ]
    }
   ],
   "source": [
    "sql_query_51 = \"select name, continent, area, population from world where area >= 3000000 or population>= 25000000\"\n",
    "df_sql_51 = mysql_read_action(sql_query_51)\n",
    "df_sql_51.show()"
   ]
  },
  {
   "cell_type": "code",
   "execution_count": 17,
   "id": "1aac4e6d-f1fc-4efd-ae0a-ff8b84988511",
   "metadata": {},
   "outputs": [],
   "source": [
    "# pyspark solution"
   ]
  },
  {
   "cell_type": "code",
   "execution_count": 18,
   "id": "8a75903a-bc3b-4cc4-adc2-fa426475352e",
   "metadata": {},
   "outputs": [
    {
     "name": "stdout",
     "output_type": "stream",
     "text": [
      "+-----------+---------+-------+----------+------------+\n",
      "|       name|continent|   area|population|         gdp|\n",
      "+-----------+---------+-------+----------+------------+\n",
      "|Afghanistan|     Asia| 652230|  25500100| 20343000000|\n",
      "|    Albania|   Europe|  28748|   2831741| 12960000000|\n",
      "|    Algeria|   Africa|2381741|  37100000|188681000000|\n",
      "|    Andorra|   Europe|    468|     78115|  3712000000|\n",
      "|     Angola|   Africa|1246700|  20609294|100990000000|\n",
      "+-----------+---------+-------+----------+------------+\n",
      "\n"
     ]
    }
   ],
   "source": [
    "world_query = \"select * from world\"\n",
    "world_df = mysql_read_action(world_query)\n",
    "world_df.show()"
   ]
  },
  {
   "cell_type": "code",
   "execution_count": 20,
   "id": "34b65982-b834-4f4c-bc7b-ce3a0b329af1",
   "metadata": {},
   "outputs": [
    {
     "name": "stdout",
     "output_type": "stream",
     "text": [
      "+-----------+---------+-------+----------+\n",
      "|       name|continent|   area|population|\n",
      "+-----------+---------+-------+----------+\n",
      "|Afghanistan|     Asia| 652230|  25500100|\n",
      "|    Algeria|   Africa|2381741|  37100000|\n",
      "+-----------+---------+-------+----------+\n",
      "\n"
     ]
    }
   ],
   "source": [
    "df_filtered_51 = world_df.select(\"name\", \"continent\", \"area\", \"population\").filter((F.col(\"area\") >= 3000000) | (F.col(\"population\") >= 25000000))\n",
    "df_filtered_51.show()"
   ]
  },
  {
   "cell_type": "code",
   "execution_count": null,
   "id": "c76ef91f-a734-4e02-9038-9defb0741bed",
   "metadata": {},
   "outputs": [],
   "source": []
  }
 ],
 "metadata": {
  "kernelspec": {
   "display_name": "Python 3 (ipykernel)",
   "language": "python",
   "name": "python3"
  },
  "language_info": {
   "codemirror_mode": {
    "name": "ipython",
    "version": 3
   },
   "file_extension": ".py",
   "mimetype": "text/x-python",
   "name": "python",
   "nbconvert_exporter": "python",
   "pygments_lexer": "ipython3",
   "version": "3.11.4"
  }
 },
 "nbformat": 4,
 "nbformat_minor": 5
}
