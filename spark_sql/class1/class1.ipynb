{
 "cells": [
  {
   "cell_type": "code",
   "execution_count": 1,
   "id": "59a4826e-7392-4545-a4e5-79dbd91e2bb8",
   "metadata": {},
   "outputs": [],
   "source": [
    "# Import Libraries\n",
    "from pyspark.sql import SparkSession"
   ]
  },
  {
   "cell_type": "markdown",
   "id": "d50ac052-2628-46cf-acfe-e01b20b5238d",
   "metadata": {},
   "source": [
    "## Spark Session"
   ]
  },
  {
   "cell_type": "code",
   "execution_count": 2,
   "id": "7e6447fc-7e8a-4974-9106-a81223e12ebc",
   "metadata": {},
   "outputs": [],
   "source": [
    "spark = SparkSession.builder \\\n",
    "        .appName(\"SQLClass1App\") \\\n",
    "        .getOrCreate()"
   ]
  },
  {
   "cell_type": "code",
   "execution_count": 3,
   "id": "2d749b42-4afd-4b41-83ea-bc78273a6266",
   "metadata": {},
   "outputs": [
    {
     "data": {
      "text/plain": [
       "'3.5.5'"
      ]
     },
     "execution_count": 3,
     "metadata": {},
     "output_type": "execute_result"
    }
   ],
   "source": [
    "spark.version"
   ]
  },
  {
   "cell_type": "code",
   "execution_count": 4,
   "id": "b1b8aedb-73b0-42cf-8165-117aa731e658",
   "metadata": {},
   "outputs": [],
   "source": [
    "# mysql connector property for java com.mysql:mysql-connector-j:9.0.0"
   ]
  },
  {
   "cell_type": "code",
   "execution_count": 5,
   "id": "a9483afa-8384-4266-8b28-71fc9464b45e",
   "metadata": {},
   "outputs": [],
   "source": [
    "# Define MySQL credentials\n",
    "mysql_url = \"jdbc:mysql://localhost:3306/class_1\"\n",
    "mysql_user = \"root\"\n",
    "mysql_password = \"sarath254@\"\n",
    "mysql_driver = \"com.mysql.cj.jdbc.Driver\""
   ]
  },
  {
   "cell_type": "markdown",
   "id": "262b5be9-a0de-483f-86f7-d8ab7261dd44",
   "metadata": {},
   "source": [
    "# MySQL cnnection with spark"
   ]
  },
  {
   "cell_type": "code",
   "execution_count": 6,
   "id": "64806466-b116-45d2-8330-5408c03d4548",
   "metadata": {},
   "outputs": [],
   "source": [
    "# create table"
   ]
  },
  {
   "cell_type": "code",
   "execution_count": null,
   "id": "cae7758b-d4b5-45bf-8a6e-423f61088b4d",
   "metadata": {},
   "outputs": [],
   "source": []
  },
  {
   "cell_type": "code",
   "execution_count": 7,
   "id": "30c90a81-8658-4e7f-9aaa-fb73b58190f8",
   "metadata": {},
   "outputs": [],
   "source": [
    "query = \"select * from CITY\""
   ]
  },
  {
   "cell_type": "code",
   "execution_count": 8,
   "id": "460fc9c0-2ec1-497a-a95c-36b58f120b4e",
   "metadata": {},
   "outputs": [],
   "source": [
    "df = spark.read \\\n",
    "    .format(\"jdbc\") \\\n",
    "    .option(\"url\", mysql_url) \\\n",
    "    .option(\"user\", mysql_user) \\\n",
    "    .option(\"query\", query) \\\n",
    "    .option(\"password\", mysql_password) \\\n",
    "    .option(\"driver\", \"com.mysql.cj.jdbc.Driver\") \\\n",
    "    .load()"
   ]
  },
  {
   "cell_type": "code",
   "execution_count": 9,
   "id": "4211eba9-884a-4fb6-ba4e-9a8c4270c3ea",
   "metadata": {},
   "outputs": [],
   "source": [
    "def mysql_read_action(query):\n",
    "    \"\"\"\n",
    "    Perform MySQL actions like read, write, update and delete\n",
    "    \"\"\"\n",
    "    return spark.read \\\n",
    "    .format(\"jdbc\") \\\n",
    "    .option(\"url\", mysql_url) \\\n",
    "    .option(\"user\", mysql_user) \\\n",
    "    .option(\"query\", query) \\\n",
    "    .option(\"password\", mysql_password) \\\n",
    "    .option(\"driver\", mysql_driver) \\\n",
    "    .load()"
   ]
  },
  {
   "cell_type": "code",
   "execution_count": 10,
   "id": "ac34bda5-4942-4e15-a0c6-17ccac02cdb6",
   "metadata": {},
   "outputs": [],
   "source": [
    "df = mysql_read_action(query)"
   ]
  },
  {
   "cell_type": "code",
   "execution_count": 11,
   "id": "97b7234d-f659-420f-8972-12eeeef623bd",
   "metadata": {},
   "outputs": [
    {
     "name": "stdout",
     "output_type": "stream",
     "text": [
      "+----+-------------+-----------+-------------+----------+\n",
      "|  ID|         NAME|COUNTRYCODE|     DISTRICT|POPULATION|\n",
      "+----+-------------+-----------+-------------+----------+\n",
      "|   6|    Rotterdam|        NLD| Zuid-Holland|    593321|\n",
      "|3878|   Scottsdale|        USA|      Arizona|    202705|\n",
      "|3965|       Corona|        USA|   California|    124966|\n",
      "|3973|      Concord|        USA|   California|    121780|\n",
      "|3977| Cedar Rapids|        USA|         Iowa|    120758|\n",
      "|3982|Coral Springs|        USA|      Florida|    117549|\n",
      "|4054|    Fairfield|        USA|   California|     92256|\n",
      "|4058|      Boulder|        USA|     Colorado|     91238|\n",
      "|4061|   Fall River|        USA|Massachusetts|     90555|\n",
      "+----+-------------+-----------+-------------+----------+\n",
      "\n"
     ]
    }
   ],
   "source": [
    "df.show()"
   ]
  },
  {
   "cell_type": "markdown",
   "id": "304e373d-6b65-4c99-9635-4c5c162a5642",
   "metadata": {},
   "source": [
    "# SQL and Pyspark Practice NoteBook"
   ]
  },
  {
   "cell_type": "markdown",
   "id": "d772cf8a-b425-46e2-a709-f7a09bddac58",
   "metadata": {},
   "source": [
    "#### Q1. Query all columns for all American cities in the CITY table with populations larger than 100000.The CountryCode for America is USA. The CITY table is described as follows:"
   ]
  },
  {
   "cell_type": "markdown",
   "id": "7de20990-20bb-4a28-a043-7ea8a30e84ef",
   "metadata": {},
   "source": [
    "## pyspark solution"
   ]
  },
  {
   "cell_type": "code",
   "execution_count": 29,
   "id": "865b376a-b77c-4ddd-8a0c-1df977e0547a",
   "metadata": {},
   "outputs": [],
   "source": [
    "from pyspark.sql.functions import col"
   ]
  },
  {
   "cell_type": "code",
   "execution_count": 30,
   "id": "cc1b8996-42fd-492c-983b-91819ebf794b",
   "metadata": {},
   "outputs": [],
   "source": [
    "df = mysql_read_action(query)"
   ]
  },
  {
   "cell_type": "code",
   "execution_count": 31,
   "id": "1362abc4-3975-4d88-af84-af0cc611f52e",
   "metadata": {},
   "outputs": [],
   "source": [
    "df_filtered = df.filter(col('POPULATION')>100000).where(col(\"COUNTRYCODE\")==\"USA\")"
   ]
  },
  {
   "cell_type": "code",
   "execution_count": 32,
   "id": "1ea01c64-3cb6-4b8b-89c1-da0aed514cb3",
   "metadata": {},
   "outputs": [
    {
     "name": "stdout",
     "output_type": "stream",
     "text": [
      "+----+-------------+-----------+----------+----------+\n",
      "|  ID|         NAME|COUNTRYCODE|  DISTRICT|POPULATION|\n",
      "+----+-------------+-----------+----------+----------+\n",
      "|3878|   Scottsdale|        USA|   Arizona|    202705|\n",
      "|3965|       Corona|        USA|California|    124966|\n",
      "|3973|      Concord|        USA|California|    121780|\n",
      "|3977| Cedar Rapids|        USA|      Iowa|    120758|\n",
      "|3982|Coral Springs|        USA|   Florida|    117549|\n",
      "+----+-------------+-----------+----------+----------+\n",
      "\n"
     ]
    }
   ],
   "source": [
    "df_filtered.show()"
   ]
  },
  {
   "cell_type": "code",
   "execution_count": 33,
   "id": "393257a1-4e4e-461c-b2ee-c5f8d49652fa",
   "metadata": {},
   "outputs": [],
   "source": [
    "# another way in pyspark\n",
    "df_filtered_1 = df.filter((col('POPULATION')>100000) & (col(\"COUNTRYCODE\")==\"USA\"))"
   ]
  },
  {
   "cell_type": "code",
   "execution_count": 34,
   "id": "aaaab9f5-1151-487d-babf-91fd96c8b52b",
   "metadata": {},
   "outputs": [
    {
     "name": "stdout",
     "output_type": "stream",
     "text": [
      "+----+-------------+-----------+----------+----------+\n",
      "|  ID|         NAME|COUNTRYCODE|  DISTRICT|POPULATION|\n",
      "+----+-------------+-----------+----------+----------+\n",
      "|3878|   Scottsdale|        USA|   Arizona|    202705|\n",
      "|3965|       Corona|        USA|California|    124966|\n",
      "|3973|      Concord|        USA|California|    121780|\n",
      "|3977| Cedar Rapids|        USA|      Iowa|    120758|\n",
      "|3982|Coral Springs|        USA|   Florida|    117549|\n",
      "+----+-------------+-----------+----------+----------+\n",
      "\n"
     ]
    }
   ],
   "source": [
    "df_filtered_1.show()"
   ]
  },
  {
   "cell_type": "code",
   "execution_count": 35,
   "id": "01dbe89e-db45-4169-abe1-da3f4281ab3d",
   "metadata": {},
   "outputs": [
    {
     "data": {
      "text/plain": [
       "DataFrame[summary: string, ID: string, NAME: string, COUNTRYCODE: string, DISTRICT: string, POPULATION: string]"
      ]
     },
     "execution_count": 35,
     "metadata": {},
     "output_type": "execute_result"
    }
   ],
   "source": [
    "df_filtered.describe()"
   ]
  },
  {
   "cell_type": "markdown",
   "id": "dc8a2215-a3d6-42fd-91b7-5d8cb663f30e",
   "metadata": {},
   "source": [
    "1. Both filter() and where() do the same job in the DataFrame API.\n",
    "2. where() is just an alias for filter(), provided for SQL-like syntax consistency.\n",
    "3. You can use column expressions or SQL-like string conditions in both."
   ]
  },
  {
   "cell_type": "markdown",
   "id": "eb148a22-3826-446e-ad7f-3a0d8b96b7f3",
   "metadata": {},
   "source": [
    "## SQL solution"
   ]
  },
  {
   "cell_type": "code",
   "execution_count": 36,
   "id": "6b74c827-9a9b-4959-bc73-1da02ed2de7f",
   "metadata": {},
   "outputs": [],
   "source": [
    "sql_query = \"select * from CITY where COUNTRYCODE='USA' and population>100000\""
   ]
  },
  {
   "cell_type": "code",
   "execution_count": 37,
   "id": "6d36e658-bf1e-4b2b-9110-7cb93d9c991f",
   "metadata": {},
   "outputs": [],
   "source": [
    "df_sql = mysql_read_action(sql_query)"
   ]
  },
  {
   "cell_type": "code",
   "execution_count": 38,
   "id": "f3107b0a-6b1a-4f12-83a3-2d5de8584523",
   "metadata": {},
   "outputs": [
    {
     "name": "stdout",
     "output_type": "stream",
     "text": [
      "+----+-------------+-----------+----------+----------+\n",
      "|  ID|         NAME|COUNTRYCODE|  DISTRICT|POPULATION|\n",
      "+----+-------------+-----------+----------+----------+\n",
      "|3878|   Scottsdale|        USA|   Arizona|    202705|\n",
      "|3965|       Corona|        USA|California|    124966|\n",
      "|3973|      Concord|        USA|California|    121780|\n",
      "|3977| Cedar Rapids|        USA|      Iowa|    120758|\n",
      "|3982|Coral Springs|        USA|   Florida|    117549|\n",
      "+----+-------------+-----------+----------+----------+\n",
      "\n"
     ]
    }
   ],
   "source": [
    "df_sql.show()"
   ]
  },
  {
   "cell_type": "markdown",
   "id": "4d656ddc-656b-4fbb-a76f-addb3d78dd26",
   "metadata": {},
   "source": [
    "###  Q2. Query the NAME field for all American cities in the CITY table with populations larger than 120000.The CountryCode for America is USA. The CITY table is described as follows:"
   ]
  },
  {
   "cell_type": "code",
   "execution_count": 46,
   "id": "d5fcce2e-e9e9-48cf-8fef-e3b3fe58995c",
   "metadata": {},
   "outputs": [],
   "source": [
    "# pyspark solution"
   ]
  },
  {
   "cell_type": "code",
   "execution_count": 39,
   "id": "c62a1480-f4d3-4a51-8649-552ecc0aa22b",
   "metadata": {},
   "outputs": [
    {
     "name": "stdout",
     "output_type": "stream",
     "text": [
      "+----+-------------+-----------+-------------+----------+\n",
      "|  ID|         NAME|COUNTRYCODE|     DISTRICT|POPULATION|\n",
      "+----+-------------+-----------+-------------+----------+\n",
      "|   6|    Rotterdam|        NLD| Zuid-Holland|    593321|\n",
      "|3878|   Scottsdale|        USA|      Arizona|    202705|\n",
      "|3965|       Corona|        USA|   California|    124966|\n",
      "|3973|      Concord|        USA|   California|    121780|\n",
      "|3977| Cedar Rapids|        USA|         Iowa|    120758|\n",
      "|3982|Coral Springs|        USA|      Florida|    117549|\n",
      "|4054|    Fairfield|        USA|   California|     92256|\n",
      "|4058|      Boulder|        USA|     Colorado|     91238|\n",
      "|4061|   Fall River|        USA|Massachusetts|     90555|\n",
      "+----+-------------+-----------+-------------+----------+\n",
      "\n"
     ]
    }
   ],
   "source": [
    "df.show()"
   ]
  },
  {
   "cell_type": "code",
   "execution_count": 43,
   "id": "e4d8250d-d37d-4762-8435-1eaee9a49bdc",
   "metadata": {},
   "outputs": [],
   "source": [
    "df_filtered_2 = df.select(col(\"NAME\"), col(\"POPULATION\")).filter(col(\"POPULATION\")>120000)"
   ]
  },
  {
   "cell_type": "code",
   "execution_count": 44,
   "id": "4908e7cf-2d63-4f21-9a9d-d3d3132018c4",
   "metadata": {},
   "outputs": [
    {
     "name": "stdout",
     "output_type": "stream",
     "text": [
      "+------------+----------+\n",
      "|        NAME|POPULATION|\n",
      "+------------+----------+\n",
      "|   Rotterdam|    593321|\n",
      "|  Scottsdale|    202705|\n",
      "|      Corona|    124966|\n",
      "|     Concord|    121780|\n",
      "|Cedar Rapids|    120758|\n",
      "+------------+----------+\n",
      "\n"
     ]
    }
   ],
   "source": [
    "df_filtered_2.show()"
   ]
  },
  {
   "cell_type": "code",
   "execution_count": 45,
   "id": "e2cf62e2-92d6-40b2-a7e3-4fe2e289da46",
   "metadata": {},
   "outputs": [],
   "source": [
    "# SQL solution"
   ]
  },
  {
   "cell_type": "code",
   "execution_count": 47,
   "id": "8443e375-bf51-4bcc-93a4-ff189695d949",
   "metadata": {},
   "outputs": [],
   "source": [
    "sql_query_2 = \"select name, population from city where population>120000\""
   ]
  },
  {
   "cell_type": "code",
   "execution_count": 48,
   "id": "1a3c4de4-9d47-40bb-ab14-2afc8b6cf42f",
   "metadata": {},
   "outputs": [],
   "source": [
    "df_sql_2 = mysql_read_action(sql_query_2)"
   ]
  },
  {
   "cell_type": "code",
   "execution_count": 49,
   "id": "58f9122d-f1e4-4e60-8b3a-1e128f7ca4aa",
   "metadata": {},
   "outputs": [
    {
     "name": "stdout",
     "output_type": "stream",
     "text": [
      "+------------+----------+\n",
      "|        name|population|\n",
      "+------------+----------+\n",
      "|   Rotterdam|    593321|\n",
      "|  Scottsdale|    202705|\n",
      "|      Corona|    124966|\n",
      "|     Concord|    121780|\n",
      "|Cedar Rapids|    120758|\n",
      "+------------+----------+\n",
      "\n"
     ]
    }
   ],
   "source": [
    "df_sql_2.show()"
   ]
  },
  {
   "cell_type": "markdown",
   "id": "2c73cca8-e427-4eb2-8487-5c942af0f611",
   "metadata": {},
   "source": [
    "### Q3. Query all columns (attributes) for every row in the CITY table."
   ]
  },
  {
   "cell_type": "code",
   "execution_count": 50,
   "id": "b731509a-0026-4299-9ded-85d80f68a12d",
   "metadata": {},
   "outputs": [],
   "source": [
    "# spark solution"
   ]
  },
  {
   "cell_type": "code",
   "execution_count": 51,
   "id": "e06d934e-0596-455f-a5a0-a410511f9daa",
   "metadata": {},
   "outputs": [
    {
     "name": "stdout",
     "output_type": "stream",
     "text": [
      "+----+-------------+-----------+-------------+----------+\n",
      "|  ID|         NAME|COUNTRYCODE|     DISTRICT|POPULATION|\n",
      "+----+-------------+-----------+-------------+----------+\n",
      "|   6|    Rotterdam|        NLD| Zuid-Holland|    593321|\n",
      "|3878|   Scottsdale|        USA|      Arizona|    202705|\n",
      "|3965|       Corona|        USA|   California|    124966|\n",
      "|3973|      Concord|        USA|   California|    121780|\n",
      "|3977| Cedar Rapids|        USA|         Iowa|    120758|\n",
      "|3982|Coral Springs|        USA|      Florida|    117549|\n",
      "|4054|    Fairfield|        USA|   California|     92256|\n",
      "|4058|      Boulder|        USA|     Colorado|     91238|\n",
      "|4061|   Fall River|        USA|Massachusetts|     90555|\n",
      "+----+-------------+-----------+-------------+----------+\n",
      "\n"
     ]
    }
   ],
   "source": [
    "df.show()"
   ]
  },
  {
   "cell_type": "code",
   "execution_count": 54,
   "id": "f4d4b58e-ffc7-4a8b-92eb-2ad1166e854a",
   "metadata": {},
   "outputs": [],
   "source": [
    "df_filtered_3 = df.select(col(\"*\"))"
   ]
  },
  {
   "cell_type": "code",
   "execution_count": 55,
   "id": "c76312e9-88ce-4b31-9185-ae44ecaa696c",
   "metadata": {},
   "outputs": [
    {
     "name": "stdout",
     "output_type": "stream",
     "text": [
      "+----+-------------+-----------+-------------+----------+\n",
      "|  ID|         NAME|COUNTRYCODE|     DISTRICT|POPULATION|\n",
      "+----+-------------+-----------+-------------+----------+\n",
      "|   6|    Rotterdam|        NLD| Zuid-Holland|    593321|\n",
      "|3878|   Scottsdale|        USA|      Arizona|    202705|\n",
      "|3965|       Corona|        USA|   California|    124966|\n",
      "|3973|      Concord|        USA|   California|    121780|\n",
      "|3977| Cedar Rapids|        USA|         Iowa|    120758|\n",
      "|3982|Coral Springs|        USA|      Florida|    117549|\n",
      "|4054|    Fairfield|        USA|   California|     92256|\n",
      "|4058|      Boulder|        USA|     Colorado|     91238|\n",
      "|4061|   Fall River|        USA|Massachusetts|     90555|\n",
      "+----+-------------+-----------+-------------+----------+\n",
      "\n"
     ]
    }
   ],
   "source": [
    "df_filtered_3.show()"
   ]
  },
  {
   "cell_type": "code",
   "execution_count": 56,
   "id": "210a0d78-0b22-4424-9db7-9378d8e7224c",
   "metadata": {},
   "outputs": [],
   "source": [
    "# SQL solution"
   ]
  },
  {
   "cell_type": "code",
   "execution_count": 57,
   "id": "2e43275a-6587-4221-9493-bdb94a08e5e3",
   "metadata": {},
   "outputs": [],
   "source": [
    "sql_query_3 = \"select * from city\"\n",
    "\n",
    "df_sql_3 = mysql_read_action(sql_query_3)"
   ]
  },
  {
   "cell_type": "code",
   "execution_count": 58,
   "id": "0a69fc1d-3d65-4213-8ede-47b51efacb92",
   "metadata": {},
   "outputs": [
    {
     "name": "stdout",
     "output_type": "stream",
     "text": [
      "+----+-------------+-----------+-------------+----------+\n",
      "|  ID|         NAME|COUNTRYCODE|     DISTRICT|POPULATION|\n",
      "+----+-------------+-----------+-------------+----------+\n",
      "|   6|    Rotterdam|        NLD| Zuid-Holland|    593321|\n",
      "|3878|   Scottsdale|        USA|      Arizona|    202705|\n",
      "|3965|       Corona|        USA|   California|    124966|\n",
      "|3973|      Concord|        USA|   California|    121780|\n",
      "|3977| Cedar Rapids|        USA|         Iowa|    120758|\n",
      "|3982|Coral Springs|        USA|      Florida|    117549|\n",
      "|4054|    Fairfield|        USA|   California|     92256|\n",
      "|4058|      Boulder|        USA|     Colorado|     91238|\n",
      "|4061|   Fall River|        USA|Massachusetts|     90555|\n",
      "+----+-------------+-----------+-------------+----------+\n",
      "\n"
     ]
    }
   ],
   "source": [
    "df_sql_3.show()"
   ]
  },
  {
   "cell_type": "markdown",
   "id": "dbcd47c1-e4d9-4a26-b69b-fa61c661bbd0",
   "metadata": {},
   "source": [
    "### Q4. Query all columns for a city in CITY with the ID 1661."
   ]
  },
  {
   "cell_type": "code",
   "execution_count": 69,
   "id": "56ba67b0-9832-4091-8cff-b5795f7e4385",
   "metadata": {},
   "outputs": [],
   "source": [
    " # spark solution"
   ]
  },
  {
   "cell_type": "code",
   "execution_count": 59,
   "id": "0a31746a-9e9c-41bf-bd6b-6fe0e8860ca8",
   "metadata": {},
   "outputs": [
    {
     "name": "stdout",
     "output_type": "stream",
     "text": [
      "+----+-------------+-----------+-------------+----------+\n",
      "|  ID|         NAME|COUNTRYCODE|     DISTRICT|POPULATION|\n",
      "+----+-------------+-----------+-------------+----------+\n",
      "|   6|    Rotterdam|        NLD| Zuid-Holland|    593321|\n",
      "|3878|   Scottsdale|        USA|      Arizona|    202705|\n",
      "|3965|       Corona|        USA|   California|    124966|\n",
      "|3973|      Concord|        USA|   California|    121780|\n",
      "|3977| Cedar Rapids|        USA|         Iowa|    120758|\n",
      "|3982|Coral Springs|        USA|      Florida|    117549|\n",
      "|4054|    Fairfield|        USA|   California|     92256|\n",
      "|4058|      Boulder|        USA|     Colorado|     91238|\n",
      "|4061|   Fall River|        USA|Massachusetts|     90555|\n",
      "+----+-------------+-----------+-------------+----------+\n",
      "\n"
     ]
    }
   ],
   "source": [
    "df.show()"
   ]
  },
  {
   "cell_type": "code",
   "execution_count": 67,
   "id": "1b020f87-4fd4-4fcd-ba7e-0f66df7f3fbb",
   "metadata": {},
   "outputs": [],
   "source": [
    "df_filtered_4 = df.where(col(\"ID\")==1661)"
   ]
  },
  {
   "cell_type": "code",
   "execution_count": 68,
   "id": "18646188-b5a4-4fdc-a8a2-0189fe4816f6",
   "metadata": {},
   "outputs": [
    {
     "name": "stdout",
     "output_type": "stream",
     "text": [
      "+---+----+-----------+--------+----------+\n",
      "| ID|NAME|COUNTRYCODE|DISTRICT|POPULATION|\n",
      "+---+----+-----------+--------+----------+\n",
      "+---+----+-----------+--------+----------+\n",
      "\n"
     ]
    }
   ],
   "source": [
    "df_filtered_4.show()"
   ]
  },
  {
   "cell_type": "code",
   "execution_count": 70,
   "id": "6a82ff88-4b9c-45c3-809b-4f26a824bfa7",
   "metadata": {},
   "outputs": [],
   "source": [
    "# sql solution"
   ]
  },
  {
   "cell_type": "code",
   "execution_count": 77,
   "id": "28991253-2245-48b1-a7cb-a804a1480bd5",
   "metadata": {},
   "outputs": [],
   "source": [
    "sql_query_4 = \"select * from city where id=1661\""
   ]
  },
  {
   "cell_type": "code",
   "execution_count": 78,
   "id": "bf29d2a1-33ca-489a-982e-d3d82f730700",
   "metadata": {},
   "outputs": [],
   "source": [
    "df_sql4 = mysql_read_action(sql_query_4)"
   ]
  },
  {
   "cell_type": "code",
   "execution_count": 79,
   "id": "e1b1c772-e617-473b-813d-f071cba4586a",
   "metadata": {},
   "outputs": [
    {
     "name": "stdout",
     "output_type": "stream",
     "text": [
      "+---+----+-----------+--------+----------+\n",
      "| ID|NAME|COUNTRYCODE|DISTRICT|POPULATION|\n",
      "+---+----+-----------+--------+----------+\n",
      "+---+----+-----------+--------+----------+\n",
      "\n"
     ]
    }
   ],
   "source": [
    "df_sql4.show()"
   ]
  },
  {
   "cell_type": "markdown",
   "id": "7d0d9324-1da4-459d-b945-9b6ed48d3b14",
   "metadata": {},
   "source": [
    "### Q5. Query all attributes of every Japanese city in the CITY table. The COUNTRYCODE for Japan is  JPN."
   ]
  },
  {
   "cell_type": "code",
   "execution_count": 80,
   "id": "1ed79e58-311c-4f0d-883a-8529cf0f51eb",
   "metadata": {},
   "outputs": [],
   "source": [
    "# spark solution"
   ]
  },
  {
   "cell_type": "code",
   "execution_count": 81,
   "id": "4fb36a33-b932-4473-a767-d6e0035d055d",
   "metadata": {},
   "outputs": [
    {
     "name": "stdout",
     "output_type": "stream",
     "text": [
      "+----+-------------+-----------+-------------+----------+\n",
      "|  ID|         NAME|COUNTRYCODE|     DISTRICT|POPULATION|\n",
      "+----+-------------+-----------+-------------+----------+\n",
      "|   6|    Rotterdam|        NLD| Zuid-Holland|    593321|\n",
      "|3878|   Scottsdale|        USA|      Arizona|    202705|\n",
      "|3965|       Corona|        USA|   California|    124966|\n",
      "|3973|      Concord|        USA|   California|    121780|\n",
      "|3977| Cedar Rapids|        USA|         Iowa|    120758|\n",
      "|3982|Coral Springs|        USA|      Florida|    117549|\n",
      "|4054|    Fairfield|        USA|   California|     92256|\n",
      "|4058|      Boulder|        USA|     Colorado|     91238|\n",
      "|4061|   Fall River|        USA|Massachusetts|     90555|\n",
      "+----+-------------+-----------+-------------+----------+\n",
      "\n"
     ]
    }
   ],
   "source": [
    "df.show()"
   ]
  },
  {
   "cell_type": "code",
   "execution_count": 82,
   "id": "cd90f0b9-bec2-4d5d-8cd8-5245d05a000e",
   "metadata": {},
   "outputs": [],
   "source": [
    "df_filtered_5 = df.select(col(\"*\")).filter(col(\"COUNTRYCODE\")==\"JPN\")"
   ]
  },
  {
   "cell_type": "code",
   "execution_count": 83,
   "id": "aa53ddb1-f994-43ea-b525-c481159b920d",
   "metadata": {},
   "outputs": [
    {
     "name": "stdout",
     "output_type": "stream",
     "text": [
      "+---+----+-----------+--------+----------+\n",
      "| ID|NAME|COUNTRYCODE|DISTRICT|POPULATION|\n",
      "+---+----+-----------+--------+----------+\n",
      "+---+----+-----------+--------+----------+\n",
      "\n"
     ]
    }
   ],
   "source": [
    "df_filtered_5.show()"
   ]
  },
  {
   "cell_type": "code",
   "execution_count": 84,
   "id": "6bb5a630-2f90-447c-82bc-b4a32ad0d428",
   "metadata": {},
   "outputs": [],
   "source": [
    "# sql solution"
   ]
  },
  {
   "cell_type": "code",
   "execution_count": 85,
   "id": "26ec7ea6-3e96-4b7d-9c0c-839f62614aaf",
   "metadata": {},
   "outputs": [],
   "source": [
    "sql_query_5 = \"select * from city where countrycode='JPN'\""
   ]
  },
  {
   "cell_type": "code",
   "execution_count": 86,
   "id": "7e34052b-981c-4cdf-b5ce-58345390565a",
   "metadata": {},
   "outputs": [],
   "source": [
    "df_sql_5 = mysql_read_action(sql_query_5)"
   ]
  },
  {
   "cell_type": "code",
   "execution_count": 87,
   "id": "f6df79ae-4a9e-4a59-bf15-e752171b4d20",
   "metadata": {},
   "outputs": [
    {
     "name": "stdout",
     "output_type": "stream",
     "text": [
      "+---+----+-----------+--------+----------+\n",
      "| ID|NAME|COUNTRYCODE|DISTRICT|POPULATION|\n",
      "+---+----+-----------+--------+----------+\n",
      "+---+----+-----------+--------+----------+\n",
      "\n"
     ]
    }
   ],
   "source": [
    "df_sql_5.show()"
   ]
  },
  {
   "cell_type": "code",
   "execution_count": null,
   "id": "16392d0d-1f5a-4e32-a8ce-e628537712b1",
   "metadata": {},
   "outputs": [],
   "source": []
  }
 ],
 "metadata": {
  "kernelspec": {
   "display_name": "Python 3 (ipykernel)",
   "language": "python",
   "name": "python3"
  },
  "language_info": {
   "codemirror_mode": {
    "name": "ipython",
    "version": 3
   },
   "file_extension": ".py",
   "mimetype": "text/x-python",
   "name": "python",
   "nbconvert_exporter": "python",
   "pygments_lexer": "ipython3",
   "version": "3.11.8"
  }
 },
 "nbformat": 4,
 "nbformat_minor": 5
}
