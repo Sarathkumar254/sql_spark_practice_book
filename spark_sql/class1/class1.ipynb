{
 "cells": [
  {
   "cell_type": "code",
   "execution_count": 1,
   "id": "59a4826e-7392-4545-a4e5-79dbd91e2bb8",
   "metadata": {},
   "outputs": [],
   "source": [
    "# Import Libraries\n",
    "from pyspark.sql import SparkSession"
   ]
  },
  {
   "cell_type": "markdown",
   "id": "d50ac052-2628-46cf-acfe-e01b20b5238d",
   "metadata": {},
   "source": [
    "## Spark Session"
   ]
  },
  {
   "cell_type": "code",
   "execution_count": 2,
   "id": "7e6447fc-7e8a-4974-9106-a81223e12ebc",
   "metadata": {},
   "outputs": [],
   "source": [
    "spark = SparkSession.builder \\\n",
    "        .appName(\"SQLClass1App\") \\\n",
    "        .getOrCreate()"
   ]
  },
  {
   "cell_type": "code",
   "execution_count": 3,
   "id": "2d749b42-4afd-4b41-83ea-bc78273a6266",
   "metadata": {},
   "outputs": [
    {
     "data": {
      "text/plain": [
       "'3.5.5'"
      ]
     },
     "execution_count": 3,
     "metadata": {},
     "output_type": "execute_result"
    }
   ],
   "source": [
    "spark.version"
   ]
  },
  {
   "cell_type": "code",
   "execution_count": 4,
   "id": "b1b8aedb-73b0-42cf-8165-117aa731e658",
   "metadata": {},
   "outputs": [],
   "source": [
    "# mysql connector property for java com.mysql:mysql-connector-j:9.0.0"
   ]
  },
  {
   "cell_type": "code",
   "execution_count": 5,
   "id": "a9483afa-8384-4266-8b28-71fc9464b45e",
   "metadata": {},
   "outputs": [],
   "source": [
    "# Define MySQL credentials\n",
    "mysql_url = \"jdbc:mysql://localhost:3306/class_1\"\n",
    "mysql_user = \"root\"\n",
    "mysql_password = \"sarath254@\"\n",
    "mysql_driver = \"com.mysql.cj.jdbc.Driver\""
   ]
  },
  {
   "cell_type": "markdown",
   "id": "262b5be9-a0de-483f-86f7-d8ab7261dd44",
   "metadata": {},
   "source": [
    "# MySQL cnnection with spark"
   ]
  },
  {
   "cell_type": "code",
   "execution_count": 6,
   "id": "64806466-b116-45d2-8330-5408c03d4548",
   "metadata": {},
   "outputs": [],
   "source": [
    "# create table"
   ]
  },
  {
   "cell_type": "code",
   "execution_count": null,
   "id": "cae7758b-d4b5-45bf-8a6e-423f61088b4d",
   "metadata": {},
   "outputs": [],
   "source": []
  },
  {
   "cell_type": "code",
   "execution_count": 7,
   "id": "30c90a81-8658-4e7f-9aaa-fb73b58190f8",
   "metadata": {},
   "outputs": [],
   "source": [
    "query = \"select * from CITY\""
   ]
  },
  {
   "cell_type": "code",
   "execution_count": 8,
   "id": "460fc9c0-2ec1-497a-a95c-36b58f120b4e",
   "metadata": {},
   "outputs": [],
   "source": [
    "df = spark.read \\\n",
    "    .format(\"jdbc\") \\\n",
    "    .option(\"url\", mysql_url) \\\n",
    "    .option(\"user\", mysql_user) \\\n",
    "    .option(\"query\", query) \\\n",
    "    .option(\"password\", mysql_password) \\\n",
    "    .option(\"driver\", \"com.mysql.cj.jdbc.Driver\") \\\n",
    "    .load()"
   ]
  },
  {
   "cell_type": "code",
   "execution_count": 9,
   "id": "4211eba9-884a-4fb6-ba4e-9a8c4270c3ea",
   "metadata": {},
   "outputs": [],
   "source": [
    "def mysql_read_action(query):\n",
    "    \"\"\"\n",
    "    Perform MySQL actions like read, write, update and delete\n",
    "    \"\"\"\n",
    "    return spark.read \\\n",
    "    .format(\"jdbc\") \\\n",
    "    .option(\"url\", mysql_url) \\\n",
    "    .option(\"user\", mysql_user) \\\n",
    "    .option(\"query\", query) \\\n",
    "    .option(\"password\", mysql_password) \\\n",
    "    .option(\"driver\", mysql_driver) \\\n",
    "    .load()"
   ]
  },
  {
   "cell_type": "code",
   "execution_count": 10,
   "id": "ac34bda5-4942-4e15-a0c6-17ccac02cdb6",
   "metadata": {},
   "outputs": [],
   "source": [
    "df = mysql_read_action(query)"
   ]
  },
  {
   "cell_type": "code",
   "execution_count": 11,
   "id": "97b7234d-f659-420f-8972-12eeeef623bd",
   "metadata": {},
   "outputs": [
    {
     "name": "stdout",
     "output_type": "stream",
     "text": [
      "+----+-------------+-----------+-------------+----------+\n",
      "|  ID|         NAME|COUNTRYCODE|     DISTRICT|POPULATION|\n",
      "+----+-------------+-----------+-------------+----------+\n",
      "|   6|    Rotterdam|        NLD| Zuid-Holland|    593321|\n",
      "|3878|   Scottsdale|        USA|      Arizona|    202705|\n",
      "|3965|       Corona|        USA|   California|    124966|\n",
      "|3973|      Concord|        USA|   California|    121780|\n",
      "|3977| Cedar Rapids|        USA|         Iowa|    120758|\n",
      "|3982|Coral Springs|        USA|      Florida|    117549|\n",
      "|4054|    Fairfield|        USA|   California|     92256|\n",
      "|4058|      Boulder|        USA|     Colorado|     91238|\n",
      "|4061|   Fall River|        USA|Massachusetts|     90555|\n",
      "+----+-------------+-----------+-------------+----------+\n",
      "\n"
     ]
    }
   ],
   "source": [
    "df.show()"
   ]
  },
  {
   "cell_type": "markdown",
   "id": "304e373d-6b65-4c99-9635-4c5c162a5642",
   "metadata": {},
   "source": [
    "# SQL and Pyspark Practice NoteBook"
   ]
  },
  {
   "cell_type": "markdown",
   "id": "d772cf8a-b425-46e2-a709-f7a09bddac58",
   "metadata": {},
   "source": [
    "#### Q1. Query all columns for all American cities in the CITY table with populations larger than 100000.The CountryCode for America is USA. The CITY table is described as follows:"
   ]
  },
  {
   "cell_type": "markdown",
   "id": "7de20990-20bb-4a28-a043-7ea8a30e84ef",
   "metadata": {},
   "source": [
    "## pyspark solution"
   ]
  },
  {
   "cell_type": "code",
   "execution_count": null,
   "id": "865b376a-b77c-4ddd-8a0c-1df977e0547a",
   "metadata": {},
   "outputs": [],
   "source": [
    "from pyspark.sql.functions import col"
   ]
  },
  {
   "cell_type": "code",
   "execution_count": null,
   "id": "cc1b8996-42fd-492c-983b-91819ebf794b",
   "metadata": {},
   "outputs": [],
   "source": [
    "df = mysql_read_action(query)"
   ]
  },
  {
   "cell_type": "code",
   "execution_count": null,
   "id": "1362abc4-3975-4d88-af84-af0cc611f52e",
   "metadata": {},
   "outputs": [],
   "source": [
    "df_filtered = df.filter(col('POPULATION')>100000).where(col(\"COUNTRYCODE\")==\"USA\")"
   ]
  },
  {
   "cell_type": "code",
   "execution_count": null,
   "id": "1ea01c64-3cb6-4b8b-89c1-da0aed514cb3",
   "metadata": {},
   "outputs": [],
   "source": [
    "df_filtered.show()"
   ]
  },
  {
   "cell_type": "code",
   "execution_count": null,
   "id": "393257a1-4e4e-461c-b2ee-c5f8d49652fa",
   "metadata": {},
   "outputs": [],
   "source": [
    "# another way in pyspark\n",
    "df_filtered_1 = df.filter((col('POPULATION')>100000) & (col(\"COUNTRYCODE\")==\"USA\"))"
   ]
  },
  {
   "cell_type": "code",
   "execution_count": null,
   "id": "aaaab9f5-1151-487d-babf-91fd96c8b52b",
   "metadata": {},
   "outputs": [],
   "source": [
    "df_filtered_1.show()"
   ]
  },
  {
   "cell_type": "code",
   "execution_count": null,
   "id": "01dbe89e-db45-4169-abe1-da3f4281ab3d",
   "metadata": {},
   "outputs": [],
   "source": [
    "df_filtered.describe()"
   ]
  },
  {
   "cell_type": "markdown",
   "id": "dc8a2215-a3d6-42fd-91b7-5d8cb663f30e",
   "metadata": {},
   "source": [
    "1. Both filter() and where() do the same job in the DataFrame API.\n",
    "2. where() is just an alias for filter(), provided for SQL-like syntax consistency.\n",
    "3. You can use column expressions or SQL-like string conditions in both."
   ]
  },
  {
   "cell_type": "markdown",
   "id": "eb148a22-3826-446e-ad7f-3a0d8b96b7f3",
   "metadata": {},
   "source": [
    "## SQL solution"
   ]
  },
  {
   "cell_type": "code",
   "execution_count": null,
   "id": "6b74c827-9a9b-4959-bc73-1da02ed2de7f",
   "metadata": {},
   "outputs": [],
   "source": [
    "sql_query = \"select * from CITY where COUNTRYCODE='USA' and population>100000\""
   ]
  },
  {
   "cell_type": "code",
   "execution_count": null,
   "id": "6d36e658-bf1e-4b2b-9110-7cb93d9c991f",
   "metadata": {},
   "outputs": [],
   "source": [
    "df_sql = mysql_read_action(sql_query)"
   ]
  },
  {
   "cell_type": "code",
   "execution_count": null,
   "id": "f3107b0a-6b1a-4f12-83a3-2d5de8584523",
   "metadata": {},
   "outputs": [],
   "source": [
    "df_sql.show()"
   ]
  },
  {
   "cell_type": "markdown",
   "id": "4d656ddc-656b-4fbb-a76f-addb3d78dd26",
   "metadata": {},
   "source": [
    "###  Q2. Query the NAME field for all American cities in the CITY table with populations larger than 120000.The CountryCode for America is USA. The CITY table is described as follows:"
   ]
  },
  {
   "cell_type": "code",
   "execution_count": null,
   "id": "d5fcce2e-e9e9-48cf-8fef-e3b3fe58995c",
   "metadata": {},
   "outputs": [],
   "source": [
    "# pyspark solution"
   ]
  },
  {
   "cell_type": "code",
   "execution_count": null,
   "id": "c62a1480-f4d3-4a51-8649-552ecc0aa22b",
   "metadata": {},
   "outputs": [],
   "source": [
    "df.show()"
   ]
  },
  {
   "cell_type": "code",
   "execution_count": null,
   "id": "e4d8250d-d37d-4762-8435-1eaee9a49bdc",
   "metadata": {},
   "outputs": [],
   "source": [
    "df_filtered_2 = df.select(col(\"NAME\"), col(\"POPULATION\")).filter(col(\"POPULATION\")>120000)"
   ]
  },
  {
   "cell_type": "code",
   "execution_count": null,
   "id": "4908e7cf-2d63-4f21-9a9d-d3d3132018c4",
   "metadata": {},
   "outputs": [],
   "source": [
    "df_filtered_2.show()"
   ]
  },
  {
   "cell_type": "code",
   "execution_count": null,
   "id": "e2cf62e2-92d6-40b2-a7e3-4fe2e289da46",
   "metadata": {},
   "outputs": [],
   "source": [
    "# SQL solution"
   ]
  },
  {
   "cell_type": "code",
   "execution_count": null,
   "id": "8443e375-bf51-4bcc-93a4-ff189695d949",
   "metadata": {},
   "outputs": [],
   "source": [
    "sql_query_2 = \"select name, population from city where population>120000\""
   ]
  },
  {
   "cell_type": "code",
   "execution_count": null,
   "id": "1a3c4de4-9d47-40bb-ab14-2afc8b6cf42f",
   "metadata": {},
   "outputs": [],
   "source": [
    "df_sql_2 = mysql_read_action(sql_query_2)"
   ]
  },
  {
   "cell_type": "code",
   "execution_count": null,
   "id": "58f9122d-f1e4-4e60-8b3a-1e128f7ca4aa",
   "metadata": {},
   "outputs": [],
   "source": [
    "df_sql_2.show()"
   ]
  },
  {
   "cell_type": "markdown",
   "id": "2c73cca8-e427-4eb2-8487-5c942af0f611",
   "metadata": {},
   "source": [
    "### Q3. Query all columns (attributes) for every row in the CITY table."
   ]
  },
  {
   "cell_type": "code",
   "execution_count": null,
   "id": "b731509a-0026-4299-9ded-85d80f68a12d",
   "metadata": {},
   "outputs": [],
   "source": [
    "# spark solution"
   ]
  },
  {
   "cell_type": "code",
   "execution_count": null,
   "id": "e06d934e-0596-455f-a5a0-a410511f9daa",
   "metadata": {},
   "outputs": [],
   "source": [
    "df.show()"
   ]
  },
  {
   "cell_type": "code",
   "execution_count": null,
   "id": "f4d4b58e-ffc7-4a8b-92eb-2ad1166e854a",
   "metadata": {},
   "outputs": [],
   "source": [
    "df_filtered_3 = df.select(col(\"*\"))"
   ]
  },
  {
   "cell_type": "code",
   "execution_count": null,
   "id": "c76312e9-88ce-4b31-9185-ae44ecaa696c",
   "metadata": {},
   "outputs": [],
   "source": [
    "df_filtered_3.show()"
   ]
  },
  {
   "cell_type": "code",
   "execution_count": null,
   "id": "210a0d78-0b22-4424-9db7-9378d8e7224c",
   "metadata": {},
   "outputs": [],
   "source": [
    "# SQL solution"
   ]
  },
  {
   "cell_type": "code",
   "execution_count": null,
   "id": "2e43275a-6587-4221-9493-bdb94a08e5e3",
   "metadata": {},
   "outputs": [],
   "source": [
    "sql_query_3 = \"select * from city\"\n",
    "\n",
    "df_sql_3 = mysql_read_action(sql_query_3)"
   ]
  },
  {
   "cell_type": "code",
   "execution_count": null,
   "id": "0a69fc1d-3d65-4213-8ede-47b51efacb92",
   "metadata": {},
   "outputs": [],
   "source": [
    "df_sql_3.show()"
   ]
  },
  {
   "cell_type": "markdown",
   "id": "dbcd47c1-e4d9-4a26-b69b-fa61c661bbd0",
   "metadata": {},
   "source": [
    "### Q4. Query all columns for a city in CITY with the ID 1661."
   ]
  },
  {
   "cell_type": "code",
   "execution_count": null,
   "id": "56ba67b0-9832-4091-8cff-b5795f7e4385",
   "metadata": {},
   "outputs": [],
   "source": [
    " # spark solution"
   ]
  },
  {
   "cell_type": "code",
   "execution_count": null,
   "id": "0a31746a-9e9c-41bf-bd6b-6fe0e8860ca8",
   "metadata": {},
   "outputs": [],
   "source": [
    "df.show()"
   ]
  },
  {
   "cell_type": "code",
   "execution_count": null,
   "id": "1b020f87-4fd4-4fcd-ba7e-0f66df7f3fbb",
   "metadata": {},
   "outputs": [],
   "source": [
    "df_filtered_4 = df.where(col(\"ID\")==1661)"
   ]
  },
  {
   "cell_type": "code",
   "execution_count": null,
   "id": "18646188-b5a4-4fdc-a8a2-0189fe4816f6",
   "metadata": {},
   "outputs": [],
   "source": [
    "df_filtered_4.show()"
   ]
  },
  {
   "cell_type": "code",
   "execution_count": null,
   "id": "6a82ff88-4b9c-45c3-809b-4f26a824bfa7",
   "metadata": {},
   "outputs": [],
   "source": [
    "# sql solution"
   ]
  },
  {
   "cell_type": "code",
   "execution_count": null,
   "id": "28991253-2245-48b1-a7cb-a804a1480bd5",
   "metadata": {},
   "outputs": [],
   "source": [
    "sql_query_4 = \"select * from city where id=1661\""
   ]
  },
  {
   "cell_type": "code",
   "execution_count": null,
   "id": "bf29d2a1-33ca-489a-982e-d3d82f730700",
   "metadata": {},
   "outputs": [],
   "source": [
    "df_sql4 = mysql_read_action(sql_query_4)"
   ]
  },
  {
   "cell_type": "code",
   "execution_count": null,
   "id": "e1b1c772-e617-473b-813d-f071cba4586a",
   "metadata": {},
   "outputs": [],
   "source": [
    "df_sql4.show()"
   ]
  },
  {
   "cell_type": "markdown",
   "id": "7d0d9324-1da4-459d-b945-9b6ed48d3b14",
   "metadata": {},
   "source": [
    "### Q5. Query all attributes of every Japanese city in the CITY table. The COUNTRYCODE for Japan is  JPN."
   ]
  },
  {
   "cell_type": "code",
   "execution_count": null,
   "id": "1ed79e58-311c-4f0d-883a-8529cf0f51eb",
   "metadata": {},
   "outputs": [],
   "source": [
    "# spark solution"
   ]
  },
  {
   "cell_type": "code",
   "execution_count": null,
   "id": "4fb36a33-b932-4473-a767-d6e0035d055d",
   "metadata": {},
   "outputs": [],
   "source": [
    "df.show()"
   ]
  },
  {
   "cell_type": "code",
   "execution_count": null,
   "id": "cd90f0b9-bec2-4d5d-8cd8-5245d05a000e",
   "metadata": {},
   "outputs": [],
   "source": [
    "df_filtered_5 = df.select(col(\"*\")).filter(col(\"COUNTRYCODE\")==\"JPN\")"
   ]
  },
  {
   "cell_type": "code",
   "execution_count": null,
   "id": "aa53ddb1-f994-43ea-b525-c481159b920d",
   "metadata": {},
   "outputs": [],
   "source": [
    "df_filtered_5.show()"
   ]
  },
  {
   "cell_type": "code",
   "execution_count": null,
   "id": "6bb5a630-2f90-447c-82bc-b4a32ad0d428",
   "metadata": {},
   "outputs": [],
   "source": [
    "# sql solution"
   ]
  },
  {
   "cell_type": "code",
   "execution_count": null,
   "id": "26ec7ea6-3e96-4b7d-9c0c-839f62614aaf",
   "metadata": {},
   "outputs": [],
   "source": [
    "sql_query_5 = \"select * from city where countrycode='JPN'\""
   ]
  },
  {
   "cell_type": "code",
   "execution_count": null,
   "id": "7e34052b-981c-4cdf-b5ce-58345390565a",
   "metadata": {},
   "outputs": [],
   "source": [
    "df_sql_5 = mysql_read_action(sql_query_5)"
   ]
  },
  {
   "cell_type": "code",
   "execution_count": null,
   "id": "f6df79ae-4a9e-4a59-bf15-e752171b4d20",
   "metadata": {},
   "outputs": [],
   "source": [
    "df_sql_5.show()"
   ]
  },
  {
   "cell_type": "markdown",
   "id": "713920c5-860f-4744-8a98-4e2638036aaf",
   "metadata": {},
   "source": [
    "###  Q6. Query the names of all the Japanese cities in the CITY table. The COUNTRYCODE for Japan is JPN."
   ]
  },
  {
   "cell_type": "code",
   "execution_count": null,
   "id": "d178ce57-0144-4ff1-b03a-424890405146",
   "metadata": {},
   "outputs": [],
   "source": [
    "# sql solution"
   ]
  },
  {
   "cell_type": "code",
   "execution_count": null,
   "id": "71ddaf66-4649-4924-89a2-d02976d46115",
   "metadata": {},
   "outputs": [],
   "source": [
    "sql_query_6 = \"select name from CITY where COUNTRYCODE='JPN'\""
   ]
  },
  {
   "cell_type": "code",
   "execution_count": null,
   "id": "739134b9-7c6a-4d2b-8b3b-0a1b95e2c9cb",
   "metadata": {},
   "outputs": [],
   "source": [
    "df_sql_6 = mysql_read_action(sql_query_6)"
   ]
  },
  {
   "cell_type": "code",
   "execution_count": null,
   "id": "14e9b5ce-e6f0-4b7a-9a17-4e70a1a17bf1",
   "metadata": {},
   "outputs": [],
   "source": [
    "df_sql_6.show()"
   ]
  },
  {
   "cell_type": "code",
   "execution_count": null,
   "id": "cc789739-ac5b-41c2-b427-c819a3d105ee",
   "metadata": {},
   "outputs": [],
   "source": [
    "# pyspark solution"
   ]
  },
  {
   "cell_type": "code",
   "execution_count": null,
   "id": "25d772f4-b3aa-4242-ac20-b9cf262bf8bb",
   "metadata": {},
   "outputs": [],
   "source": [
    "df.show()"
   ]
  },
  {
   "cell_type": "code",
   "execution_count": null,
   "id": "9995ab7f-3cbf-49f1-b9fb-d9a8d5111888",
   "metadata": {},
   "outputs": [],
   "source": [
    "df_filtered_6 = df.select(col('name')).where(col(\"countrycode\")==\"JPN\")"
   ]
  },
  {
   "cell_type": "code",
   "execution_count": null,
   "id": "b9c9318c-b9a3-4fce-99ce-26e4e3310c20",
   "metadata": {},
   "outputs": [],
   "source": [
    "df_filtered_6.show()"
   ]
  },
  {
   "cell_type": "markdown",
   "id": "86b60c39-73f9-4bf2-b28a-72b55e2c37a0",
   "metadata": {},
   "source": [
    "###  Q7. Query a list of CITY and STATE from the STATION table"
   ]
  },
  {
   "cell_type": "code",
   "execution_count": null,
   "id": "45702c64-e3cc-4707-9d2a-df4674569c95",
   "metadata": {},
   "outputs": [],
   "source": [
    "station_table_query = \"select * from station\""
   ]
  },
  {
   "cell_type": "code",
   "execution_count": null,
   "id": "2635b550-6264-44e0-a7e3-82fe72a79be4",
   "metadata": {},
   "outputs": [],
   "source": [
    "station_df = mysql_read_action(station_table_query)"
   ]
  },
  {
   "cell_type": "code",
   "execution_count": null,
   "id": "c5b15ea9-9f7d-4d22-bbaf-2a0b97f2c4af",
   "metadata": {},
   "outputs": [],
   "source": [
    "station_df.show()"
   ]
  },
  {
   "cell_type": "code",
   "execution_count": null,
   "id": "593edd29-a848-420b-9884-1cb96878de1c",
   "metadata": {},
   "outputs": [],
   "source": [
    "station_df.columns"
   ]
  },
  {
   "cell_type": "code",
   "execution_count": null,
   "id": "142f13dd-127d-445c-9cdf-067b3cc5ab06",
   "metadata": {},
   "outputs": [],
   "source": [
    "sql_query_7 = \" select city, state from station\""
   ]
  },
  {
   "cell_type": "code",
   "execution_count": null,
   "id": "812539f9-04fd-45a5-b9cc-6d81638deba9",
   "metadata": {},
   "outputs": [],
   "source": [
    "df_sql_7 = mysql_read_action(sql_query_7)"
   ]
  },
  {
   "cell_type": "code",
   "execution_count": null,
   "id": "c758cb20-0f23-4ee0-8729-ad032547bbec",
   "metadata": {},
   "outputs": [],
   "source": [
    "df_sql_7.show()"
   ]
  },
  {
   "cell_type": "code",
   "execution_count": null,
   "id": "abee5457-7b1c-4245-80f8-8ee39af7ebef",
   "metadata": {},
   "outputs": [],
   "source": [
    "# spark solution"
   ]
  },
  {
   "cell_type": "code",
   "execution_count": null,
   "id": "66af9031-0fd3-4673-a336-447a9b2181a6",
   "metadata": {},
   "outputs": [],
   "source": [
    "df_filtered_7 = station_df.select(col(\"city\"), col(\"state\"))"
   ]
  },
  {
   "cell_type": "code",
   "execution_count": null,
   "id": "5a68829e-df9a-4fa1-a9a3-76a2462ae59a",
   "metadata": {},
   "outputs": [],
   "source": [
    "df_filtered_7.show()"
   ]
  },
  {
   "cell_type": "code",
   "execution_count": null,
   "id": "6dba4efb-52c6-4718-a9f1-5539958bd477",
   "metadata": {},
   "outputs": [],
   "source": [
    "df_filtered_7 = station_df.selectExpr(\"city\", \"state\")"
   ]
  },
  {
   "cell_type": "code",
   "execution_count": null,
   "id": "d364b645-1d51-45f7-b943-b93e7f76874c",
   "metadata": {},
   "outputs": [],
   "source": [
    "df_filtered_7.show()"
   ]
  },
  {
   "cell_type": "markdown",
   "id": "60ed5fba-daf4-46cd-bb86-c3711a1591f8",
   "metadata": {},
   "source": [
    " ### Q8. Query a list of CITY names from STATION for cities that have an even ID number. Print the results in any order, but exclude duplicates from the answer."
   ]
  },
  {
   "cell_type": "code",
   "execution_count": null,
   "id": "88916f53-5887-4384-aa40-2572efcee719",
   "metadata": {},
   "outputs": [],
   "source": [
    "sql_query_8 = \" select distinct city from station where ID%2=0\""
   ]
  },
  {
   "cell_type": "code",
   "execution_count": null,
   "id": "e29e2f35-7da2-4fcb-9783-eefd090be09f",
   "metadata": {},
   "outputs": [],
   "source": [
    "df_sql_8 = mysql_read_action(sql_query_8)"
   ]
  },
  {
   "cell_type": "code",
   "execution_count": null,
   "id": "76dcfef8-fdb0-40ac-b45b-99c2820cd2b2",
   "metadata": {},
   "outputs": [],
   "source": [
    "df_sql_8.show()"
   ]
  },
  {
   "cell_type": "code",
   "execution_count": null,
   "id": "f4120934-6fc0-4bda-9d86-0c7d201439e7",
   "metadata": {},
   "outputs": [],
   "source": [
    "# spark solution"
   ]
  },
  {
   "cell_type": "code",
   "execution_count": null,
   "id": "d17bf2ca-ece2-4fae-990a-b3f3fcf5f80e",
   "metadata": {},
   "outputs": [],
   "source": [
    "station_df.show()"
   ]
  },
  {
   "cell_type": "code",
   "execution_count": null,
   "id": "d7fb1c04-24d2-4bf6-8dd9-f36ab673fb0c",
   "metadata": {},
   "outputs": [],
   "source": [
    "df_filtered_8 = station_df.selectExpr(\"city\").distinct().filter(col(\"ID\")%2==0)"
   ]
  },
  {
   "cell_type": "code",
   "execution_count": null,
   "id": "8a2bdd04-613c-469c-bc05-c66e75b7354e",
   "metadata": {},
   "outputs": [],
   "source": [
    "df_filtered_8.show()"
   ]
  },
  {
   "cell_type": "markdown",
   "id": "8fa39a59-f480-4e67-8507-1b79e77b39b7",
   "metadata": {},
   "source": [
    "### Q9. Find the difference between the total number of CITY entries in the table and the number of distinct CITY entries in the table."
   ]
  },
  {
   "cell_type": "code",
   "execution_count": null,
   "id": "9c37e483-c865-4a84-bbbb-b50bc0e7f198",
   "metadata": {},
   "outputs": [],
   "source": [
    "sql_query_9 = \"select count(city) as total_number_of_cities, count(distinct city) as unique_cities, (count(city) - count(distinct city)) as difference from station\""
   ]
  },
  {
   "cell_type": "code",
   "execution_count": null,
   "id": "2ffc1764-98b3-41bd-a06c-56180ed63bc2",
   "metadata": {},
   "outputs": [],
   "source": [
    "df_sql_9 = mysql_read_action(sql_query_9)"
   ]
  },
  {
   "cell_type": "code",
   "execution_count": null,
   "id": "a77ba1d8-e5a3-4826-9c2e-56aab331167b",
   "metadata": {},
   "outputs": [],
   "source": [
    "df_sql_9.show()"
   ]
  },
  {
   "cell_type": "code",
   "execution_count": null,
   "id": "205eeeb9-47b3-4781-b3c8-dbd1111b5cb9",
   "metadata": {},
   "outputs": [],
   "source": [
    "# pyspark solution"
   ]
  },
  {
   "cell_type": "code",
   "execution_count": null,
   "id": "4322b4fd-d548-462a-9870-0fb4f8f8410d",
   "metadata": {},
   "outputs": [],
   "source": [
    "df_filtered_9 = station_df.selectExpr(\"count(city) as total_cities\", \n",
    "                                     \"count(distinct city) as unique_cities\",\n",
    "                                     \"count(city) - count(distinct city) as difference\")"
   ]
  },
  {
   "cell_type": "code",
   "execution_count": null,
   "id": "0cf66e91-2145-4470-b13d-11c57ade7b32",
   "metadata": {},
   "outputs": [],
   "source": [
    "df_filtered_9.show()"
   ]
  },
  {
   "cell_type": "markdown",
   "id": "27b367ec-95bd-4481-934d-0db4cddb5706",
   "metadata": {},
   "source": [
    "###  Q10. Query the two cities in STATION with the shortest and longest CITY names, as well as their\n",
    "### respective lengths (i.e.: number of characters in the name). If there is more than one smallest or\n",
    "### largest city, choose the one that comes first when ordered alphabetically."
   ]
  },
  {
   "cell_type": "code",
   "execution_count": null,
   "id": "692b5eb9-b976-4d0b-bab6-cb3f56c852e0",
   "metadata": {},
   "outputs": [],
   "source": [
    "# sql query "
   ]
  },
  {
   "cell_type": "code",
   "execution_count": null,
   "id": "846da8ec-042a-41ca-9c31-572bd63a8bdc",
   "metadata": {},
   "outputs": [],
   "source": [
    "sql_query_9_1 = \"select city, length(city) as city_length from station order by length(city) desc limit 1\""
   ]
  },
  {
   "cell_type": "code",
   "execution_count": null,
   "id": "53f5f9e1-3c1e-49de-a221-7575b041d8e2",
   "metadata": {},
   "outputs": [],
   "source": [
    "df_sql_9_1 = mysql_read_action(sql_query_9_1)"
   ]
  },
  {
   "cell_type": "code",
   "execution_count": null,
   "id": "a7801930-0b00-40e8-8f37-64682938cfab",
   "metadata": {},
   "outputs": [],
   "source": [
    "df_sql_9_1.show()"
   ]
  },
  {
   "cell_type": "code",
   "execution_count": null,
   "id": "d7a35292-c4fc-492a-ad9b-43f47a4e42bd",
   "metadata": {},
   "outputs": [],
   "source": [
    "sql_query_9_2 = \"select city, length(city) as city_length from station order by length(city), city asc limit 1\""
   ]
  },
  {
   "cell_type": "code",
   "execution_count": null,
   "id": "70d1a520-bb6b-473d-ab30-2589548b3aad",
   "metadata": {},
   "outputs": [],
   "source": [
    "df_sql_9_2 = mysql_read_action(sql_query_9_2)"
   ]
  },
  {
   "cell_type": "code",
   "execution_count": null,
   "id": "e6b891b8-dca8-4aae-90cf-7031b218a6a5",
   "metadata": {},
   "outputs": [],
   "source": [
    "df_sql_9_2.show()"
   ]
  },
  {
   "cell_type": "code",
   "execution_count": null,
   "id": "3279cbef-8d06-4f76-9033-d01e25d39e9c",
   "metadata": {},
   "outputs": [],
   "source": [
    "# pyspark solution"
   ]
  },
  {
   "cell_type": "code",
   "execution_count": null,
   "id": "f26eaf0d-127b-4d93-a903-6d448e31f89f",
   "metadata": {},
   "outputs": [],
   "source": [
    "from pyspark.sql.functions import length\n",
    "df_filtered_9_1 = station_df.select(col(\"city\"), length(col(\"city\")).alias(\"city_length\")).orderBy(col(\"city_length\").desc()).limit(1)"
   ]
  },
  {
   "cell_type": "code",
   "execution_count": null,
   "id": "f91320a8-e020-4c3f-af40-7d7fed79ce54",
   "metadata": {},
   "outputs": [],
   "source": [
    "df_filtered_9_1.show()"
   ]
  },
  {
   "cell_type": "code",
   "execution_count": null,
   "id": "eecb7164-6a5a-42ef-9da3-dc470d9e7436",
   "metadata": {},
   "outputs": [],
   "source": [
    "df_filtered_9_2 = station_df.select(col(\"city\"), length(col(\"city\")).alias(\"city_length\")).orderBy(col(\"city\")).limit(1)"
   ]
  },
  {
   "cell_type": "code",
   "execution_count": null,
   "id": "5a10c639-dde2-4da4-ad51-ed4367c62ca2",
   "metadata": {},
   "outputs": [],
   "source": [
    "df_filtered_9_2.show()"
   ]
  },
  {
   "cell_type": "markdown",
   "id": "d3265e86-ccd5-40fc-84d1-3d5fdd269bcc",
   "metadata": {},
   "source": [
    "###  Q11. Query the list of CITY names starting with vowels (i.e., a, e, i, o, or u) from STATION. Your result cannot contain duplicates."
   ]
  },
  {
   "cell_type": "code",
   "execution_count": null,
   "id": "968d233e-a4f2-4361-9a3b-fa60943195f2",
   "metadata": {},
   "outputs": [],
   "source": [
    "# sql_solution"
   ]
  },
  {
   "cell_type": "code",
   "execution_count": null,
   "id": "af44b127-e841-4bff-a247-e999042edc2f",
   "metadata": {},
   "outputs": [],
   "source": [
    "sql_query_10 = \"SELECT DISTINCT(CITY) AS DISTINCT_CITY_NAME FROM STATION WHERE lower(SUBSTR(city,1,1)) in ('a','e','i','o','u')\""
   ]
  },
  {
   "cell_type": "raw",
   "id": "4bb20dab-7857-4b33-8caf-cf5d2973d6d9",
   "metadata": {},
   "source": [
    "✅ Parameters:\n",
    "city: the string column you're operating on.\n",
    "\n",
    "1: the starting position (1-based index — so 1 means start from the first character).\n",
    "\n",
    "1: the length of the substring to extract (here, just 1 character)."
   ]
  },
  {
   "cell_type": "code",
   "execution_count": null,
   "id": "06628485-88b8-47db-a823-6cbcfefd2d26",
   "metadata": {},
   "outputs": [],
   "source": [
    "df_sql_10 = mysql_read_action(sql_query_10)"
   ]
  },
  {
   "cell_type": "code",
   "execution_count": null,
   "id": "442e7c5c-3084-4d9d-9414-bb5f06f5c4f5",
   "metadata": {},
   "outputs": [],
   "source": [
    "df_sql_10.show()"
   ]
  },
  {
   "cell_type": "code",
   "execution_count": null,
   "id": "02a6fbbc-0ba6-4762-b248-b944c47a9367",
   "metadata": {},
   "outputs": [],
   "source": [
    "# pyspark solution"
   ]
  },
  {
   "cell_type": "code",
   "execution_count": null,
   "id": "5b82d246-8a61-47bb-aa8d-4651d6a0679f",
   "metadata": {},
   "outputs": [],
   "source": [
    "from pyspark.sql.functions import lower\n",
    "df_filtered_11 = station_df.select(col(\"city\")).distinct().filter(lower(col('city')).substr(1, 1).isin(\"a\", \"e\", \"i\", \"o\", \"u\"))"
   ]
  },
  {
   "cell_type": "code",
   "execution_count": null,
   "id": "d70d28ac-afc7-4420-bc98-cd612bd22159",
   "metadata": {},
   "outputs": [],
   "source": [
    "df_filtered_11.show()"
   ]
  },
  {
   "cell_type": "markdown",
   "id": "35179641-feb4-4808-88ae-aa9b887a50ff",
   "metadata": {},
   "source": [
    "### Q12. Query the list of CITY names ending with vowels (a, e, i, o, u) from STATION. Your result cannot contain duplicates."
   ]
  },
  {
   "cell_type": "code",
   "execution_count": null,
   "id": "9ce47bc5-d839-4e2f-b476-d04438a6451f",
   "metadata": {},
   "outputs": [],
   "source": [
    "sql_query_11 = \"SELECT DISTINCT(CITY) AS DISTINCT_CITY_NAME FROM STATION WHERE lower(SUBSTR(city,-1,1)) in ('a','e','i','o','u')\""
   ]
  },
  {
   "cell_type": "code",
   "execution_count": null,
   "id": "f3d30082-7484-499d-b6a1-293e5032308d",
   "metadata": {},
   "outputs": [],
   "source": [
    "df_sql_11 = mysql_read_action(sql_query_11)"
   ]
  },
  {
   "cell_type": "code",
   "execution_count": null,
   "id": "94397dc3-5fbb-406b-bb86-3e60050e4991",
   "metadata": {},
   "outputs": [],
   "source": [
    "df_sql_11.show()"
   ]
  },
  {
   "cell_type": "code",
   "execution_count": null,
   "id": "51e4819f-2af1-4997-9359-590b89c241da",
   "metadata": {},
   "outputs": [],
   "source": [
    "# pyspark solution\n",
    "df_filtered_12 = station_df.select(col(\"city\")).distinct().filter(lower(col('city')).substr(-1, 1).isin(\"a\", \"e\", \"i\", \"o\", \"u\"))"
   ]
  },
  {
   "cell_type": "code",
   "execution_count": null,
   "id": "fce55792-112e-468a-90cb-53f31303f12b",
   "metadata": {},
   "outputs": [],
   "source": [
    "df_filtered_12.show()"
   ]
  },
  {
   "cell_type": "markdown",
   "id": "304bacc7-baa4-4a8f-b559-27a50768091d",
   "metadata": {},
   "source": [
    "### Q13. Query the list of CITY names from STATION that do not start with vowels. Your result cannot contain duplicates."
   ]
  },
  {
   "cell_type": "code",
   "execution_count": null,
   "id": "45565ea0-150d-491b-9e9a-1b025f24a3c3",
   "metadata": {},
   "outputs": [],
   "source": [
    "sql_query_13 = \"select distinct city from station where lower(substr(city, 1, 1)) not in ('a', 'b', 'c', 'd', 'e')\""
   ]
  },
  {
   "cell_type": "code",
   "execution_count": null,
   "id": "aaceb8d6-4368-4d2e-b3f2-c19b326d3274",
   "metadata": {},
   "outputs": [],
   "source": [
    "df_sql_13 = mysql_read_action(sql_query_13)"
   ]
  },
  {
   "cell_type": "code",
   "execution_count": null,
   "id": "497295df-7a96-4bd0-b528-14a29b9477f8",
   "metadata": {},
   "outputs": [],
   "source": [
    "df_sql_13.show()"
   ]
  },
  {
   "cell_type": "code",
   "execution_count": null,
   "id": "ec2ce152-ec87-446a-8c2b-a4dfa5053797",
   "metadata": {},
   "outputs": [],
   "source": [
    "from pyspark.sql.functions import col, lower, substr\n",
    "\n",
    "df_filtered_13 = station_df \\\n",
    "    .select(\"city\") \\\n",
    "    .distinct() \\\n",
    "    .filter(~lower(col(\"city\")).substr(1, 1).isin(\"a\", \"e\", \"i\", \"o\", \"u\"))"
   ]
  },
  {
   "cell_type": "code",
   "execution_count": null,
   "id": "46a8dd67-6c4e-4544-865c-ced5ab7906db",
   "metadata": {},
   "outputs": [],
   "source": [
    "df_filtered_13.show()"
   ]
  },
  {
   "cell_type": "markdown",
   "id": "1b526df2-6d44-423f-8688-f6c87d55366e",
   "metadata": {},
   "source": [
    " ### Q14. Query the list of CITY names from STATION that do not end with vowels. Your result cannot contain duplicates."
   ]
  },
  {
   "cell_type": "code",
   "execution_count": null,
   "id": "9d724343-bcc3-464c-811a-a74aa1688b60",
   "metadata": {},
   "outputs": [],
   "source": [
    "# sql_solution"
   ]
  },
  {
   "cell_type": "code",
   "execution_count": null,
   "id": "ddf1a89c-e4d9-492c-abd1-9bdb494814c4",
   "metadata": {},
   "outputs": [],
   "source": [
    "sql_query_14 = \"select distinct city from station where lower(substr(city, -1, 1)) not in ('a', 'e', 'i', 'o', 'u')\""
   ]
  },
  {
   "cell_type": "code",
   "execution_count": null,
   "id": "1fc6c904-9305-4ef9-976b-6090bf0a64a7",
   "metadata": {},
   "outputs": [],
   "source": [
    "df_query_14 = mysql_read_action(sql_query_14)"
   ]
  },
  {
   "cell_type": "code",
   "execution_count": null,
   "id": "6e16d6ce-6482-452f-8852-ae33cec1dca7",
   "metadata": {},
   "outputs": [],
   "source": [
    "df_query_14.show()"
   ]
  },
  {
   "cell_type": "code",
   "execution_count": null,
   "id": "00bf9fea-60bf-4fbe-8b0c-614bbf94607b",
   "metadata": {},
   "outputs": [],
   "source": [
    "# spark solution"
   ]
  },
  {
   "cell_type": "code",
   "execution_count": null,
   "id": "4b4dd4cb-5ac3-41e4-918c-b56e6c8e8860",
   "metadata": {},
   "outputs": [],
   "source": [
    "df_filtered_14 = station_df.select(col('city'))\\\n",
    "                           .distinct()\\\n",
    "                           .filter(~lower(col('city')).substr(-1,1).isin('a', 'e', 'i', 'o', 'u'))"
   ]
  },
  {
   "cell_type": "code",
   "execution_count": null,
   "id": "b227d7c1-7dae-4d2b-b6e9-13ed382fdb11",
   "metadata": {},
   "outputs": [],
   "source": [
    "df_filtered_14.show()"
   ]
  },
  {
   "cell_type": "markdown",
   "id": "82b5e794-a11f-4116-b1de-007f1a01c45d",
   "metadata": {},
   "source": [
    "### Q15. Query the list of CITY names from STATION that either do not start with vowels and do not end with vowels. Your result cannot contain duplicates."
   ]
  },
  {
   "cell_type": "code",
   "execution_count": null,
   "id": "71b50f7e-8d6c-4540-b97a-858abc7217c2",
   "metadata": {},
   "outputs": [],
   "source": [
    "sql_query_15 = \"select city from station where substr(lower(city), 1, 1) not in ('a', 'e', 'i', 'o', 'u') and substr(lower(city), -1, 1) not in  ('a', 'e', 'i', 'o', 'u')\""
   ]
  },
  {
   "cell_type": "code",
   "execution_count": null,
   "id": "abeac9c3-016a-42f2-9acf-37f03db27917",
   "metadata": {},
   "outputs": [],
   "source": [
    "df_sql_15 = mysql_read_action(sql_query_15)"
   ]
  },
  {
   "cell_type": "code",
   "execution_count": null,
   "id": "c7715209-5f21-441d-b927-3875bdb54bf8",
   "metadata": {},
   "outputs": [],
   "source": [
    "df_sql_15.show()"
   ]
  },
  {
   "cell_type": "code",
   "execution_count": null,
   "id": "45391e3e-fcd1-4599-886e-5d8b8833f4c0",
   "metadata": {},
   "outputs": [],
   "source": [
    "# pyspsark solution"
   ]
  },
  {
   "cell_type": "code",
   "execution_count": null,
   "id": "09e11d63-8f6c-439a-9841-72fab9f1ce04",
   "metadata": {},
   "outputs": [],
   "source": [
    "df_filtered_15 = station_df.select(col('city'))\\\n",
    "                           .distinct()\\\n",
    "                           .filter(~lower(col('city')).substr(1,1).isin('a', 'e', 'i', 'o', 'u') & ~lower(col(\"city\")).substr(-1, 1).isin('a', 'e', 'i', 'o', 'u'))"
   ]
  },
  {
   "cell_type": "code",
   "execution_count": null,
   "id": "e5742af4-fae2-4f88-9061-bf6fcafe5197",
   "metadata": {},
   "outputs": [],
   "source": [
    "df_filtered_15.show()"
   ]
  },
  {
   "cell_type": "markdown",
   "id": "a6d09438-3db5-492f-9a91-c7cde098d5d8",
   "metadata": {},
   "source": [
    "### Q16. Query the list of CITY names from STATION that do not start with vowels or do not end with vowels. Your result cannot contain duplicates."
   ]
  },
  {
   "cell_type": "code",
   "execution_count": null,
   "id": "7689bd25-6117-4c8d-a680-d7febfd8adcc",
   "metadata": {},
   "outputs": [],
   "source": [
    "sql_query_16 = \"select city from station where substr(lower(city), 1, 1) not in ('a', 'e', 'i', 'o', 'u') or substr(lower(city), -1, 1) not in  ('a', 'e', 'i', 'o', 'u')\""
   ]
  },
  {
   "cell_type": "code",
   "execution_count": null,
   "id": "e12ea4af-47d0-4f2e-bf54-183d5933bef1",
   "metadata": {},
   "outputs": [],
   "source": [
    "df_sql_16 = mysql_read_action(sql_query_16)"
   ]
  },
  {
   "cell_type": "code",
   "execution_count": null,
   "id": "0f953d3d-61b1-48f6-9325-d14561d2025a",
   "metadata": {},
   "outputs": [],
   "source": [
    "df_sql_16.show()"
   ]
  },
  {
   "cell_type": "code",
   "execution_count": null,
   "id": "436f6ec3-630c-491c-8a89-519b38390b92",
   "metadata": {},
   "outputs": [],
   "source": [
    "# pyspark solution"
   ]
  },
  {
   "cell_type": "code",
   "execution_count": null,
   "id": "d9742e82-8855-4376-8aa8-1a11df46be15",
   "metadata": {},
   "outputs": [],
   "source": [
    "df_filtered_16 = station_df.select(col('city'))\\\n",
    "                           .distinct()\\\n",
    "                           .filter(~lower(col('city')).substr(1,1).isin('a', 'e', 'i', 'o', 'u') | ~lower(col(\"city\")).substr(-1, 1).isin('a', 'e', 'i', 'o', 'u'))"
   ]
  },
  {
   "cell_type": "code",
   "execution_count": null,
   "id": "1d7b4956-4076-4b8d-af55-55134e3f0def",
   "metadata": {},
   "outputs": [],
   "source": [
    "df_filtered_16.show()"
   ]
  },
  {
   "cell_type": "markdown",
   "id": "a30ac7b1-2e73-463a-a49d-c74ff4eb79f2",
   "metadata": {},
   "source": [
    "### Q17.\n",
    " Table: Product\n",
    " Column Name Type\n",
    " product_id\n",
    " int\n",
    " product_name varchar\n",
    " unit_price int\n",
    " product_id is the primary key of this table.\n",
    " Each row of this table indicates the name and the price of each product.\n",
    " Table: Sales\n",
    " Column Name Type\n",
    " seller_id\n",
    " int\n",
    " product_id\n",
    " buyer_id\n",
    " int\n",
    " int\n",
    " sale_date\n",
    " quantity\n",
    " price\n",
    " date\n",
    " int\n",
    " int\n",
    " This table has no primary key, it can have repeated rows.\n",
    " product_id is a foreign key to the Product table.\n",
    " Each row of this table contains some information about one sale.\n",
    " Write an SQL query that reports the products that were only sold in the first quarter of 2019. That is,\n",
    " between 2019-01-01 and 2019-03-31 inclusive.\n",
    " Return the result table in any order.\n",
    " The query result format is in the following example.\n",
    " Input:\n",
    " Product table:\n",
    " product_id\n",
    " 1\n",
    " product_name unit_price\n",
    " S8\n",
    " 1000\n",
    " 2\n",
    " 3\n",
    " Sales table:\n",
    " seller_id\n",
    " G4\n",
    " iPhone\n",
    " product_id\n",
    " 800\n",
    " 1400\n",
    " buyer_id\n",
    " sale_date\n",
    " quantity\n",
    " 1\n",
    " 1\n",
    " 1\n",
    " 2019-01-21\n",
    " 2\n",
    " price\n",
    " 2000\n",
    " 1\n",
    " 2\n",
    " 3\n",
    " Output:\n",
    " product_id\n",
    " 1\n",
    " 2\n",
    " 2\n",
    " 3\n",
    " product_name\n",
    " S8\n",
    " 2\n",
    " 3\n",
    " 4\n",
    " 2019-02-17\n",
    " 2019-06-02\n",
    " 2019-05-13\n",
    " 1\n",
    " 1\n",
    " 2\n",
    " 800\n",
    " 800\n",
    " 2800\n",
    " Explanation:\n",
    " The product with id 1 was only sold in the spring of 2019.\n",
    " The product with id 2 was sold in the spring of 2019 but was also sold after the spring of 2019.\n",
    " The product with id 3 was sold after spring 2019.\n",
    " We return only product 1 as it is the product that was only sold in the spring of 2019"
   ]
  },
  {
   "cell_type": "markdown",
   "id": "1e858b17-9915-41e9-b36f-710eaf572aa3",
   "metadata": {},
   "source": [
    "### 17. Write an SQL query that reports the products that were only sold in the first quarter of 2019. That is, between 2019-01-01 and 2019-03-31 inclusive."
   ]
  },
  {
   "cell_type": "code",
   "execution_count": null,
   "id": "3f046906-7b9d-4831-ac8e-3406ae74d368",
   "metadata": {},
   "outputs": [],
   "source": [
    "# sql query"
   ]
  },
  {
   "cell_type": "code",
   "execution_count": null,
   "id": "b0a5ce38-5f9a-450b-9843-aa7f581542b8",
   "metadata": {},
   "outputs": [],
   "source": [
    "sql_query_17 = \"\"\"SELECT p.product_id, p.product_name\n",
    "FROM product p\n",
    "LEFT JOIN (\n",
    "    SELECT DISTINCT product_id\n",
    "    FROM sales\n",
    "    WHERE sale_date NOT BETWEEN '2019-01-01' AND '2019-03-31'\n",
    ") s ON p.product_id = s.product_id\n",
    "WHERE s.product_id IS NULL\"\"\"\n",
    "\n",
    "# select product_id, product_name from product where product_id not in (select product_id from sales where sale_date not between \"2019-01-01\" and \"2019-03-31\")"
   ]
  },
  {
   "cell_type": "code",
   "execution_count": null,
   "id": "392857d4-bc49-4e2b-b565-c138676a47af",
   "metadata": {},
   "outputs": [],
   "source": [
    "df_sql_17 = mysql_read_action(sql_query_17)"
   ]
  },
  {
   "cell_type": "code",
   "execution_count": null,
   "id": "392cc7ac-2fc6-4a4f-b964-142d8c3ee468",
   "metadata": {},
   "outputs": [],
   "source": [
    "df_sql_17.show()"
   ]
  },
  {
   "cell_type": "code",
   "execution_count": null,
   "id": "22df03f3-0186-4853-8b50-06487027aad7",
   "metadata": {},
   "outputs": [],
   "source": [
    "product_query = \"select * from product\""
   ]
  },
  {
   "cell_type": "code",
   "execution_count": null,
   "id": "e7b88a92-1242-4de3-b366-de9ef6f7098e",
   "metadata": {},
   "outputs": [],
   "source": [
    "sales_query = \"select * from sales\""
   ]
  },
  {
   "cell_type": "code",
   "execution_count": null,
   "id": "caccbf91-eaac-4b0f-b953-84ef4848ad65",
   "metadata": {},
   "outputs": [],
   "source": [
    "product_df = mysql_read_action(product_query)"
   ]
  },
  {
   "cell_type": "code",
   "execution_count": null,
   "id": "0aa3337f-44d8-4f35-a297-c440bdf06552",
   "metadata": {},
   "outputs": [],
   "source": [
    "product_df.show()"
   ]
  },
  {
   "cell_type": "code",
   "execution_count": null,
   "id": "f4824bbd-028b-46ff-87a8-d9bc57ef2e18",
   "metadata": {},
   "outputs": [],
   "source": [
    "sales_df = mysql_read_action(sales_query)"
   ]
  },
  {
   "cell_type": "code",
   "execution_count": null,
   "id": "64417648-989a-4c7a-b638-3a5452f80b1d",
   "metadata": {},
   "outputs": [],
   "source": [
    "sales_df.show()"
   ]
  },
  {
   "cell_type": "code",
   "execution_count": null,
   "id": "61c4f272-b4b9-4c76-86f2-dd20b33930a0",
   "metadata": {},
   "outputs": [],
   "source": [
    "# Step 1: Filter sales that occurred OUTSIDE the date range\n",
    "sales_outside = sales_df.filter(~col(\"sale_date\").between(\"2019-01-01\", \"2019-03-31\")) \\\n",
    "                        .select(\"product_id\") \\\n",
    "                        .distinct()\n",
    "\n",
    "# Step 2: Join product_df with the \"sales_outside\" using left anti join\n",
    "df_filtered_17 = product_df.join(sales_outside, on=\"product_id\", how=\"left_anti\") \\\n",
    "                      .select(\"product_id\", \"product_name\")\n"
   ]
  },
  {
   "cell_type": "code",
   "execution_count": null,
   "id": "b1485f69-08dc-4cb5-a7af-3fd9f84b2e49",
   "metadata": {},
   "outputs": [],
   "source": [
    "df_filtered_17.show()"
   ]
  },
  {
   "cell_type": "markdown",
   "id": "284f0ca3-f31e-4756-ac00-cdc5d9d6e433",
   "metadata": {},
   "source": [
    "### 18. Write an SQL query to find all the authors that viewed at least one of their own articles. Return the result table sorted by id in ascending order."
   ]
  },
  {
   "cell_type": "code",
   "execution_count": null,
   "id": "aaa4ba43-0d72-4f0e-9a8b-1bc3c8e024d1",
   "metadata": {},
   "outputs": [],
   "source": [
    "sql_query_18 = \"select distinct author_id from views where author_id=viewer_id order by author_id asc\""
   ]
  },
  {
   "cell_type": "code",
   "execution_count": null,
   "id": "a653a631-5d84-4c5e-877d-03a251d446d1",
   "metadata": {},
   "outputs": [],
   "source": [
    "df_sql_18 = mysql_read_action(sql_query_18)"
   ]
  },
  {
   "cell_type": "code",
   "execution_count": null,
   "id": "38d98259-87dd-48b7-ae07-65f1edf7e350",
   "metadata": {},
   "outputs": [],
   "source": [
    "df_sql_18.show()"
   ]
  },
  {
   "cell_type": "code",
   "execution_count": null,
   "id": "3f799129-c0d2-4f72-8677-51ad3c82129d",
   "metadata": {},
   "outputs": [],
   "source": [
    "# pyspark solution"
   ]
  },
  {
   "cell_type": "code",
   "execution_count": null,
   "id": "13154ec7-07d3-428c-b646-272591c9e294",
   "metadata": {},
   "outputs": [],
   "source": [
    "views_query = \"select * from views\"\n",
    "views_df = mysql_read_action(views_query)\n",
    "views_df.show()"
   ]
  },
  {
   "cell_type": "code",
   "execution_count": null,
   "id": "45b976b0-8c48-492f-a350-293eb6093a45",
   "metadata": {},
   "outputs": [],
   "source": [
    "df_filtered_18 = views_df.select(col(\"author_id\")) \\\n",
    "                         .filter(col('author_id')==col(\"viewer_id\")) \\\n",
    "                         .distinct()\\\n",
    "                         .orderBy(col('author_id').asc())"
   ]
  },
  {
   "cell_type": "code",
   "execution_count": null,
   "id": "12e76a4b-0158-44fc-8619-dd8829564bb8",
   "metadata": {},
   "outputs": [],
   "source": [
    "df_filtered_18.show()"
   ]
  },
  {
   "cell_type": "markdown",
   "id": "d775829b-8f17-4cbf-863f-0698dfb66a7e",
   "metadata": {},
   "source": [
    "### 19. delivery_id is the primary key of this table. The table holds information about food delivery to customers that make orders at some date and specify a preferred delivery date (on the same order date or after it). If the customer's preferred delivery date is the same as the order date, then the order is called immediately; otherwise, it is called scheduled.\n",
    "### Write an SQL query to find the percentage of immediate orders in the table, rounded to 2 decimal places."
   ]
  },
  {
   "cell_type": "code",
   "execution_count": null,
   "id": "efdcc067-cbae-4a42-a62a-5f15bc18194a",
   "metadata": {},
   "outputs": [],
   "source": [
    "sql_query_19 = \"\"\"\n",
    "SELECT \n",
    "    ROUND(\n",
    "        100.0 * SUM(CASE WHEN order_date = customer_pref_delivery_date THEN 1 ELSE 0 END) \n",
    "        / COUNT(*), \n",
    "        2\n",
    "    ) AS immediate_percentage\n",
    "FROM Delivery\n",
    "\"\"\""
   ]
  },
  {
   "cell_type": "code",
   "execution_count": null,
   "id": "45b1f0d4-038c-45c9-8fe5-a5d3b1808acc",
   "metadata": {},
   "outputs": [],
   "source": [
    "df_sql_19 = mysql_read_action(sql_query_19)"
   ]
  },
  {
   "cell_type": "code",
   "execution_count": null,
   "id": "ed7b40ea-a8da-462e-8f9b-bc788b9733db",
   "metadata": {},
   "outputs": [],
   "source": [
    "df_sql_19.show()"
   ]
  },
  {
   "cell_type": "code",
   "execution_count": null,
   "id": "04dc38af-abf3-4f4b-a115-cf4cdcef398e",
   "metadata": {},
   "outputs": [],
   "source": [
    "# spark solution"
   ]
  },
  {
   "cell_type": "code",
   "execution_count": null,
   "id": "5636fa5b-559e-4da9-9097-5f1f452c6699",
   "metadata": {},
   "outputs": [],
   "source": [
    "delivery_query = \"select * from delivery\""
   ]
  },
  {
   "cell_type": "code",
   "execution_count": null,
   "id": "1eb08cef-7ff7-4974-9333-51cc1a380608",
   "metadata": {},
   "outputs": [],
   "source": [
    "delivery_df = mysql_read_action(delivery_query)"
   ]
  },
  {
   "cell_type": "code",
   "execution_count": null,
   "id": "10018632-d75e-4854-825d-e8b2d1152d71",
   "metadata": {},
   "outputs": [],
   "source": [
    "delivery_df.show()"
   ]
  },
  {
   "cell_type": "code",
   "execution_count": null,
   "id": "05669bd6-a1c8-44e6-b3b1-e4d01ae73b2f",
   "metadata": {},
   "outputs": [],
   "source": [
    "from pyspark.sql.functions import when, sum, count, round\n",
    "delivery_df1 = delivery_df.withColumn(\"is_immediate\",\n",
    "                                     when(col('order_date') == col('customer_pref_delivery_date'), 1).otherwise(0))"
   ]
  },
  {
   "cell_type": "code",
   "execution_count": null,
   "id": "ececeeef-d2d9-4be9-a652-33e62b4da642",
   "metadata": {},
   "outputs": [],
   "source": [
    "delivery_df1.show()"
   ]
  },
  {
   "cell_type": "code",
   "execution_count": null,
   "id": "9561c3ce-ea77-4cd7-9310-e0507d37e52d",
   "metadata": {},
   "outputs": [],
   "source": [
    "df_filtered_19 = delivery_df1.select(round(100*(sum(col(\"is_immediate\"))/count('delivery_id')), 2).alias(\"delivery_percentage\"))"
   ]
  },
  {
   "cell_type": "code",
   "execution_count": null,
   "id": "b6510a19-039f-4784-8e45-6fed0507eaea",
   "metadata": {},
   "outputs": [],
   "source": [
    "df_filtered_19.show()"
   ]
  },
  {
   "cell_type": "markdown",
   "id": "31d23950-60a9-42af-93dd-a4ae8e90ea29",
   "metadata": {},
   "source": [
    "### 20. Write an SQL query to find the ctr of each Ad. Round ctr to two decimal points.Return the result table ordered by ctr in descending order and by ad_id in ascending order in case of a tie."
   ]
  },
  {
   "cell_type": "raw",
   "id": "970e0589-e1dd-42da-8157-ffb6467c54ff",
   "metadata": {},
   "source": [
    " Explanation:\n",
    " for ad_id = 1, ctr = (2/(2+1)) * 100 = 66.67\n",
    " for ad_id = 2, ctr = (1/(1+2)) * 100 = 33.33\n",
    " for ad_id = 3, ctr = (1/(1+1)) * 100 = 50.00\n",
    " for ad_id = 5, ctr = 0.00, Note that ad_id = 5 has no clicks or views.\n",
    " Note that we do not care about Ignored Ads.\n"
   ]
  },
  {
   "cell_type": "code",
   "execution_count": null,
   "id": "3e3027fa-28b1-4632-88e6-2d8fae65ba6e",
   "metadata": {},
   "outputs": [],
   "source": [
    "sql_query_20 = \"\"\"select \n",
    "b.ad_id,\n",
    "round(case when (b.total_clicks+b.total_views) = 0 then 0 else 100*(b.total_clicks/(b.total_clicks+b.total_views)) end,2) as ctr\n",
    "from\n",
    "(select \n",
    "ad_id,\n",
    "sum(case when action=\"Clicked\" then 1 else 0 end) as total_clicks,\n",
    "sum(case when action=\"Viewed\" then 1 else 0 end) as total_views\n",
    "from ads group by ad_id) as b\"\"\""
   ]
  },
  {
   "cell_type": "code",
   "execution_count": null,
   "id": "d83b3501-1eca-4d6e-8ef6-186ae20a0a44",
   "metadata": {},
   "outputs": [],
   "source": [
    "df_sql_20 = mysql_read_action(sql_query_20)"
   ]
  },
  {
   "cell_type": "code",
   "execution_count": null,
   "id": "0ef26759-2fd9-4950-a43c-5cef6a4fe06b",
   "metadata": {},
   "outputs": [],
   "source": [
    "df_sql_20.show()"
   ]
  },
  {
   "cell_type": "code",
   "execution_count": null,
   "id": "5b0cc28b-2637-4ac6-959e-56454ed8068b",
   "metadata": {},
   "outputs": [],
   "source": [
    "# spark solution"
   ]
  },
  {
   "cell_type": "code",
   "execution_count": null,
   "id": "aa59a6dc-3059-44c2-a6a6-51188ae09b95",
   "metadata": {},
   "outputs": [],
   "source": [
    "ads_query = \"select * from ads\""
   ]
  },
  {
   "cell_type": "code",
   "execution_count": null,
   "id": "972f2462-5da6-488e-afdc-bf124d7447bb",
   "metadata": {},
   "outputs": [],
   "source": [
    "ads_df = mysql_read_action(ads_query)"
   ]
  },
  {
   "cell_type": "code",
   "execution_count": null,
   "id": "90b47a7c-d5a4-420d-aa03-6f4916b0885b",
   "metadata": {},
   "outputs": [],
   "source": [
    "ads_df.show()"
   ]
  },
  {
   "cell_type": "code",
   "execution_count": null,
   "id": "87803bac-9309-4d62-bda6-fc2d37de3def",
   "metadata": {},
   "outputs": [],
   "source": [
    "# spark solution"
   ]
  },
  {
   "cell_type": "code",
   "execution_count": null,
   "id": "a51d8a17-d786-43cb-8157-31d93dc390b9",
   "metadata": {},
   "outputs": [],
   "source": [
    "from pyspark.sql.functions import when, sum as _sum\n",
    "df_filtered_20_1 = ads_df.groupby(col(\"ad_id\")).agg(_sum(when(col(\"action\") ==\"Clicked\", 1).otherwise(0)).alias(\"total_clicks\"))\n",
    "df_filtered_20_2 = ads_df.groupby(col(\"ad_id\")).agg(_sum(when(col(\"action\") ==\"Viewed\", 1).otherwise(0)).alias(\"total_views\"))"
   ]
  },
  {
   "cell_type": "code",
   "execution_count": null,
   "id": "d27c5667-a10b-4379-a494-556d1f450bf3",
   "metadata": {},
   "outputs": [],
   "source": [
    "df_filtered_20_1.show()"
   ]
  },
  {
   "cell_type": "code",
   "execution_count": null,
   "id": "76f2961f-8661-4d06-b990-08b529084b9f",
   "metadata": {},
   "outputs": [],
   "source": [
    "df_filtered_20_2.show()"
   ]
  },
  {
   "cell_type": "code",
   "execution_count": null,
   "id": "bbf80695-bb55-416c-a8dc-1bbab2bc8c45",
   "metadata": {},
   "outputs": [],
   "source": [
    "df_filtered_20_3 = df_filtered_20_1.join(df_filtered_20_2, on=\"ad_id\", how=\"left\").select(col(\"ad_id\"), col(\"total_clicks\"), col(\"total_views\"))"
   ]
  },
  {
   "cell_type": "code",
   "execution_count": null,
   "id": "5ab8d6c1-6d2c-43d1-88a9-ac16b7bfa0c7",
   "metadata": {},
   "outputs": [],
   "source": [
    "df_filtered_20_3.show()"
   ]
  },
  {
   "cell_type": "code",
   "execution_count": null,
   "id": "9c94e340-2eae-47ab-a92b-77699c8a97b2",
   "metadata": {},
   "outputs": [],
   "source": [
    "df_filtered_20 = df_filtered_20_3.withColumn(\"ctr\",\n",
    "                                            round(when(col(\"total_clicks\")+col(\"total_views\") == 0, 0).otherwise(100 * col('total_clicks')/(col('total_clicks')+col('total_views'))), 2))"
   ]
  },
  {
   "cell_type": "code",
   "execution_count": null,
   "id": "c8d15c93-46f4-4f10-896b-b0ccc557c9ae",
   "metadata": {},
   "outputs": [],
   "source": [
    "df_filtered_20.show()"
   ]
  },
  {
   "cell_type": "markdown",
   "id": "af2c713b-7c67-473f-b04e-7c6a60455886",
   "metadata": {},
   "source": [
    "### 21.  Write an SQL query to find the team size of each of the employees."
   ]
  },
  {
   "cell_type": "code",
   "execution_count": 12,
   "id": "47971a65-9f38-4c6e-a020-250e4b27a231",
   "metadata": {},
   "outputs": [],
   "source": [
    "sql_query_21 = \"\"\"\n",
    "select \n",
    "employee_id,\n",
    "count(employee_id) over (partition by team_id) as team_size\n",
    "from employee order by team_size desc\n",
    "\"\"\""
   ]
  },
  {
   "cell_type": "code",
   "execution_count": 13,
   "id": "752c8820-134d-4afb-aeae-9a31fc0c50a7",
   "metadata": {},
   "outputs": [],
   "source": [
    "df_query_21 = mysql_read_action(sql_query_21)"
   ]
  },
  {
   "cell_type": "code",
   "execution_count": 14,
   "id": "393635c3-4986-46e6-8e4b-324ba9a2f86a",
   "metadata": {},
   "outputs": [
    {
     "name": "stdout",
     "output_type": "stream",
     "text": [
      "+-----------+---------+\n",
      "|employee_id|team_size|\n",
      "+-----------+---------+\n",
      "|          1|        3|\n",
      "|          2|        3|\n",
      "|          3|        3|\n",
      "|          5|        2|\n",
      "|          6|        2|\n",
      "|          4|        1|\n",
      "+-----------+---------+\n",
      "\n"
     ]
    }
   ],
   "source": [
    "df_query_21.show()"
   ]
  },
  {
   "cell_type": "code",
   "execution_count": 15,
   "id": "68d6f2e5-cde7-4359-9d3b-7ee7efe65750",
   "metadata": {},
   "outputs": [],
   "source": [
    "# spark solution"
   ]
  },
  {
   "cell_type": "code",
   "execution_count": 16,
   "id": "dc0f8c84-17e3-4de8-b4d4-84bf7766c8c6",
   "metadata": {},
   "outputs": [],
   "source": [
    "employee_query = \"select * from employee\""
   ]
  },
  {
   "cell_type": "code",
   "execution_count": 17,
   "id": "2054439e-94c1-4830-ad6c-cbe8b448bc6e",
   "metadata": {},
   "outputs": [],
   "source": [
    "employee_df = mysql_read_action(employee_query)"
   ]
  },
  {
   "cell_type": "code",
   "execution_count": 18,
   "id": "8ae9d7e0-6983-4781-953a-4310936db8bf",
   "metadata": {},
   "outputs": [
    {
     "name": "stdout",
     "output_type": "stream",
     "text": [
      "+-----------+-------+\n",
      "|employee_id|team_id|\n",
      "+-----------+-------+\n",
      "|          1|      8|\n",
      "|          2|      8|\n",
      "|          3|      8|\n",
      "|          4|      7|\n",
      "|          5|      9|\n",
      "|          6|      9|\n",
      "+-----------+-------+\n",
      "\n"
     ]
    }
   ],
   "source": [
    "employee_df.show()"
   ]
  },
  {
   "cell_type": "code",
   "execution_count": 22,
   "id": "8d27b938-c663-4f60-8c3e-9b6b9913b76a",
   "metadata": {},
   "outputs": [],
   "source": [
    "from pyspark.sql.window import Window\n",
    "from pyspark.sql.functions import col, count, sum\n",
    "window_fun_21 = Window.partitionBy(\"team_id\")\n",
    "df_filtered_21 = employee_df.withColumn(\"team_size\", count(\"team_id\").over(window_fun_21)).orderBy(\"employee_id\")"
   ]
  },
  {
   "cell_type": "code",
   "execution_count": 23,
   "id": "498775b4-6260-48ab-83fe-4f6d66794d00",
   "metadata": {},
   "outputs": [
    {
     "name": "stdout",
     "output_type": "stream",
     "text": [
      "+-----------+-------+---------+\n",
      "|employee_id|team_id|team_size|\n",
      "+-----------+-------+---------+\n",
      "|          1|      8|        3|\n",
      "|          2|      8|        3|\n",
      "|          3|      8|        3|\n",
      "|          4|      7|        1|\n",
      "|          5|      9|        2|\n",
      "|          6|      9|        2|\n",
      "+-----------+-------+---------+\n",
      "\n"
     ]
    }
   ],
   "source": [
    "df_filtered_21.show()"
   ]
  },
  {
   "cell_type": "markdown",
   "id": "2a271717-8aef-4c68-b1e3-82cc90826981",
   "metadata": {},
   "source": [
    "### 22 --Write an SQL query to find the type of weather in each country for November 2019."
   ]
  },
  {
   "cell_type": "code",
   "execution_count": null,
   "id": "8f2ef560-eeed-4d94-aa11-e985bc841b87",
   "metadata": {},
   "outputs": [],
   "source": []
  }
 ],
 "metadata": {
  "kernelspec": {
   "display_name": "Python 3 (ipykernel)",
   "language": "python",
   "name": "python3"
  },
  "language_info": {
   "codemirror_mode": {
    "name": "ipython",
    "version": 3
   },
   "file_extension": ".py",
   "mimetype": "text/x-python",
   "name": "python",
   "nbconvert_exporter": "python",
   "pygments_lexer": "ipython3",
   "version": "3.11.8"
  }
 },
 "nbformat": 4,
 "nbformat_minor": 5
}
